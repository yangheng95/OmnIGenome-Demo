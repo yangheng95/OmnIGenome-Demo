{
 "cells": [
  {
   "cell_type": "markdown",
   "id": "4b9bf375",
   "metadata": {},
   "source": [
    "# Tutorial: Zero-Shot Secondary Structure Prediction with OmniGenome\n",
    "\n",
    "In this tutorial, you'll learn how to use the `OmniGenome` model for RNA secondary structure prediction in a zero-shot setting. The secondary structure of RNA is essential for understanding its function and interactions, and using machine learning models like `OmniGenome` allows us to make accurate predictions directly from sequence data.\n",
    "\n",
    "We will demonstrate how to:\n",
    "- Load a pre-trained model for RNA secondary structure prediction.\n",
    "- Perform zero-shot prediction on an RNA sequence.\n",
    "- Use a simplified API for folding sequences.\n",
    "- Compare predictions with the popular RNA folding tool `ViennaRNA`."
   ]
  },
  {
   "cell_type": "markdown",
   "id": "ccde4237",
   "metadata": {},
   "source": [
    "### 1. **Setting Up the Environment**\n",
    "Make sure you have the required Python packages installed. You can install them by running:\n",
    "\n",
    "```bash\n",
    "pip install torch transformers autocuda viennarna sklearn\n",
    "```\n",
    "\n",
    "We'll also be using the pre-trained `OmniGenome` model from Hugging Face for token classification. The specific model, `anonymous8/OmniGenome-186M`, is trained on RNA secondary structure prediction tasks."
   ]
  },
  {
   "cell_type": "markdown",
   "id": "e7e50a9b",
   "metadata": {},
   "source": [
    "### 2. **Loading the Model and Tokenizer**\n",
    "The first step is to load the pre-trained model and tokenizer for RNA secondary structure prediction."
   ]
  },
  {
   "cell_type": "code",
   "execution_count": null,
   "id": "53a43591",
   "metadata": {},
   "outputs": [],
   "source": [
    "import torch\n",
    "import autocuda\n",
    "from transformers import OmniGenomeForTokenClassification, AutoTokenizer\n",
    "\n",
    "# Load the pre-trained model for secondary structure prediction\n",
    "ssp_model = OmniGenomeForTokenClassification.from_pretrained(\n",
    "    \"anonymous8/OmniGenome-186M\"\n",
    ").to(autocuda.auto_cuda())\n",
    "\n",
    "# Load the tokenizer\n",
    "tokenizer = AutoTokenizer.from_pretrained(\"anonymous8/OmniGenome-186M\")\n"
   ]
  },
  {
   "cell_type": "markdown",
   "id": "bf53a5e1",
   "metadata": {},
   "source": [
    "### 3. **Defining the Prediction Function**\n",
    "Here, we define a function `zero_shot_secondary_structure_prediction` that takes a model and an RNA sequence as input and outputs the predicted secondary structure.\n",
    "\n",
    "This function works by tokenizing the input sequence, passing it through the model, and converting the predicted tokens into secondary structure labels."
   ]
  },
  {
   "cell_type": "code",
   "execution_count": null,
   "id": "52233198",
   "metadata": {},
   "outputs": [],
   "source": [
    "from sklearn import metrics\n",
    "\n",
    "def zero_shot_secondary_structure_prediction(model, sequence):\n",
    "    model.eval()\n",
    "    inputs = tokenizer(\n",
    "        sequence, return_tensors=\"pt\", padding=\"max_length\", truncation=True\n",
    "    ).to(device)\n",
    "    with torch.no_grad():\n",
    "        outputs = model(**inputs)\n",
    "    predictions = outputs.logits.argmax(dim=-1)[:, 1:-1]  # Skip special tokens\n",
    "    structure = [\n",
    "        model.config.id2label[prediction.item()] for prediction in predictions[0]\n",
    "    ]\n",
    "    return \"\".join(structure)"
   ]
  },
  {
   "cell_type": "markdown",
   "id": "f7c9f817",
   "metadata": {},
   "source": [
    "### 4. **Predicting RNA Secondary Structure**\n",
    "Let's now use the function we defined to predict the secondary structure of an example RNA sequence. The sequence we're using is:\n",
    "\n",
    "`GAAAAAAAAGGGGAGAAAUCCCGCCCGAAAGGGCGCCCAAAGGGC`\n"
   ]
  },
  {
   "cell_type": "code",
   "execution_count": null,
   "id": "56d007cf",
   "metadata": {},
   "outputs": [],
   "source": [
    "# Example RNA sequence\n",
    "sequence = \"GAAAAAAAAGGGGAGAAAUCCCGCCCGAAAGGGCGCCCAAAGGGC\"\n",
    "\n",
    "# Predict the secondary structure\n",
    "structure = zero_shot_secondary_structure_prediction(ssp_model, sequence)\n",
    "\n",
    "# The predicted structure should look something like this:\n",
    "print(\"Predicted structure:\", structure)\n",
    "# Expected output: ..........((((....))))((((....))))((((...))))"
   ]
  },
  {
   "cell_type": "markdown",
   "id": "7a097b14",
   "metadata": {},
   "source": [
    "### 5. **Using a Simplified Prediction API**\n",
    "The `OmniGenome` model also provides a simpler interface for predicting the secondary structure. You can directly use the `fold` method of the model to predict the structure in one line.\n",
    "\n",
    "This method is especially useful when you want to avoid handling tokenization and decoding manually."
   ]
  },
  {
   "cell_type": "code",
   "execution_count": null,
   "id": "4bf03daa",
   "metadata": {},
   "outputs": [],
   "source": [
    "# Use the simplified fold method for prediction\n",
    "structure = ssp_model.fold(sequence)\n",
    "print(\"Predicted structure with fold method:\", structure)\n",
    "# Expected output: ['..........((((....))))((((....))))((((...))))']"
   ]
  },
  {
   "cell_type": "markdown",
   "id": "7c854644",
   "metadata": {},
   "source": [
    "### 6. **Comparing with ViennaRNA**\n",
    "For comparison, you can also use the popular RNA secondary structure prediction tool `ViennaRNA`. Below is an example of how to predict the structure of the same sequence using `ViennaRNA`.\n",
    "\n",
    "You can install `ViennaRNA` by running:\n",
    "```bash\n",
    "pip install viennarna\n",
    "```\n",
    "Then, use the following code to predict the structure."
   ]
  },
  {
   "cell_type": "code",
   "execution_count": null,
   "id": "37b5fa33",
   "metadata": {},
   "outputs": [],
   "source": [
    "# Uncomment the following lines to use ViennaRNA\n",
    "# import ViennaRNA\n",
    "# print(\"ViennaRNA prediction:\", ViennaRNA.fold(sequence)[0])\n",
    "# Expected output: ..........((((....))))((((....))))((((...))))"
   ]
  },
  {
   "cell_type": "markdown",
   "id": "90d8939b",
   "metadata": {},
   "source": [
    "### 7. **Conclusion**\n",
    "In this tutorial, we demonstrated how to use the `OmniGenome` model for zero-shot RNA secondary structure prediction. We compared the results with `ViennaRNA` and also showed how to use the simpler `fold` method for quick predictions.\n",
    "\n",
    "The flexibility of `OmniGenome` allows for quick and efficient secondary structure prediction for any RNA sequence, making it a powerful tool in RNA research."
   ]
  }
 ],
 "metadata": {
  "kernelspec": {
   "display_name": "Python 3 (ipykernel)",
   "language": "python",
   "name": "python3"
  },
  "language_info": {
   "codemirror_mode": {
    "name": "ipython",
    "version": 3
   },
   "file_extension": ".py",
   "mimetype": "text/x-python",
   "name": "python",
   "nbconvert_exporter": "python",
   "pygments_lexer": "ipython3",
   "version": "3.9.18"
  }
 },
 "nbformat": 4,
 "nbformat_minor": 5
}
