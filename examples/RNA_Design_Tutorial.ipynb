{
 "cells": [
  {
   "cell_type": "markdown",
   "id": "3cbde8031573bdf0",
   "metadata": {},
   "source": [
    "# RNA Design with OmniGenomeModelForRNADesign"
   ]
  },
  {
   "cell_type": "markdown",
   "id": "fd364390695a6493",
   "metadata": {},
   "source": []
  },
  {
   "cell_type": "markdown",
   "id": "c040a979",
   "metadata": {},
   "source": [
    "\n",
    "In this tutorial, we will walk through how to set up and use the `OmniGenomeModelforRNADesign` class to design RNA sequences. We will cover the following topics:\n",
    "1. Setting up the model\n",
    "2. Running RNA design\n",
    "3. Saving and loading results\n",
    "4. Fine-tuning the parameters\n",
    "5. Visualizing RNA structures\n",
    "    "
   ]
  },
  {
   "cell_type": "markdown",
   "id": "8c7758de",
   "metadata": {},
   "source": [
    "## Tutorial 1: Setting Up the OmniGenome Model for RNA Design"
   ]
  },
  {
   "cell_type": "code",
   "execution_count": null,
   "id": "88059aca-5790-4977-bbfa-c7bc39701510",
   "metadata": {},
   "outputs": [],
   "source": [
    "```bash\n",
    "# Install dependencies (run this if needed)\n",
    "# !pip install OmniGenome torch transformers autocuda viennaRNA tqdm\n",
    "```"
   ]
  },
  {
   "cell_type": "code",
   "execution_count": null,
   "id": "20474cfa",
   "metadata": {},
   "outputs": [],
   "source": [
    "\n",
    "from omnigenome import OmniGenomeModelForRNADesign  # Assuming this is where the model class is defined\n",
    "\n",
    "# Initialize the model for RNA design\n",
    "model = OmniGenomeModelForRNADesign(model_path=\"anonymous8/OmniGenome-186M\")\n"
   ]
  },
  {
   "cell_type": "markdown",
   "id": "bf6b2e14",
   "metadata": {},
   "source": [
    "\n",
    "### Explanation\n",
    "- **model_path**: Path to the pre-trained model for RNA design. We are using `\"anonymous8/OmniGenome-186M\"`.\n",
    "    "
   ]
  },
  {
   "cell_type": "markdown",
   "id": "ea10fcee",
   "metadata": {},
   "source": [
    "## Tutorial 2: Running RNA Sequence Design"
   ]
  },
  {
   "cell_type": "code",
   "execution_count": null,
   "id": "cb016d85",
   "metadata": {},
   "outputs": [],
   "source": [
    "\n",
    "# Define the target RNA structure\n",
    "structure = \"(((....)))\"  # Example of a simple RNA hairpin structure\n",
    "\n",
    "# Run the genetic algorithm to design RNA sequences\n",
    "best_sequences = model.run_rna_design(structure=structure, mutation_ratio=0.5, num_population=100, num_generation=100)\n",
    "\n",
    "# Print the best sequence(s)\n",
    "print(\"Best RNA sequences:\", best_sequences)\n"
   ]
  },
  {
   "cell_type": "markdown",
   "id": "d5707d4a",
   "metadata": {},
   "source": [
    "\n",
    "In this tutorial, we:\n",
    "- Defined the RNA structure\n",
    "- Ran the genetic algorithm for RNA design\n",
    "    "
   ]
  },
  {
   "cell_type": "markdown",
   "id": "306a62b5",
   "metadata": {},
   "source": [
    "## Tutorial 3: Saving and Loading Designed RNA Sequences"
   ]
  },
  {
   "cell_type": "code",
   "execution_count": null,
   "id": "a47bfd36",
   "metadata": {},
   "outputs": [],
   "source": [
    "\n",
    "import json\n",
    "\n",
    "# Save the best sequences to a file\n",
    "output_file = \"best_rna_sequences.json\"\n",
    "with open(output_file, \"w\") as f:\n",
    "    json.dump({\"structure\": structure, \"best_sequences\": best_sequences}, f)\n",
    "\n",
    "print(f\"Best sequences saved to {output_file}\")\n"
   ]
  },
  {
   "cell_type": "code",
   "execution_count": null,
   "id": "b219e6c9",
   "metadata": {},
   "outputs": [],
   "source": [
    "\n",
    "# Load the sequences from the saved file\n",
    "with open(output_file, \"r\") as f:\n",
    "    loaded_data = json.load(f)\n",
    "\n",
    "print(\"Loaded RNA structure:\", loaded_data[\"structure\"])\n",
    "print(\"Loaded best sequences:\", loaded_data[\"best_sequences\"])\n"
   ]
  },
  {
   "cell_type": "markdown",
   "id": "2970b12d",
   "metadata": {},
   "source": [
    "## Tutorial 4: Fine-Tuning Parameters for Better RNA Sequence Design"
   ]
  },
  {
   "cell_type": "code",
   "execution_count": null,
   "id": "532892c4",
   "metadata": {},
   "outputs": [],
   "source": [
    "\n",
    "# Run the design with a higher mutation ratio\n",
    "best_sequences = model.run_rna_design(structure=structure, mutation_ratio=0.7, num_population=100, num_generation=100)\n",
    "print(\"Best RNA sequences with higher mutation:\", best_sequences)\n"
   ]
  },
  {
   "cell_type": "code",
   "execution_count": null,
   "id": "9044ecf7",
   "metadata": {},
   "outputs": [],
   "source": [
    "\n",
    "# Run the design with a larger population size\n",
    "best_sequences = model.run_rna_design(structure=structure, mutation_ratio=0.5, num_population=200, num_generation=100)\n",
    "print(\"Best RNA sequences with larger population:\", best_sequences)\n"
   ]
  },
  {
   "cell_type": "code",
   "execution_count": null,
   "id": "c39cf68b",
   "metadata": {},
   "outputs": [],
   "source": [
    "\n",
    "# Run the design for more generations\n",
    "best_sequences = model.run_rna_design(structure=structure, mutation_ratio=0.5, num_population=100, num_generation=200)\n",
    "print(\"Best RNA sequences with more generations:\", best_sequences)\n"
   ]
  },
  {
   "cell_type": "markdown",
   "id": "2070a0f0",
   "metadata": {},
   "source": [
    "## Tutorial 5: Visualizing the RNA Structure"
   ]
  },
  {
   "cell_type": "markdown",
   "id": "800a0b2b",
   "metadata": {},
   "source": [
    "\n",
    "You can visualize the RNA secondary structure using external tools like RNAfold from ViennaRNA.\n",
    "\n",
    "### Step 1: Install RNAfold\n",
    "To install RNAfold, you can use the following command (if on Ubuntu):\n",
    "\n",
    "```bash\n",
    "sudo apt-get install vienna-rna\n",
    "```\n",
    "\n",
    "### Step 2: Visualizing the Designed RNA\n",
    "After obtaining your RNA sequence, you can visualize its secondary structure using RNAfold:\n",
    "\n",
    "```bash\n",
    "echo \"GCGCUACGUCGCGAU\" | RNAfold\n",
    "```\n",
    "\n",
    "This will output the predicted secondary structure along with the minimum free energy (MFE).\n"
   ]
  },
  {
   "cell_type": "markdown",
   "id": "bb2949b6",
   "metadata": {},
   "source": [
    "## Conclusion"
   ]
  },
  {
   "cell_type": "markdown",
   "id": "333d9c8a",
   "metadata": {},
   "source": [
    "\n",
    "By following these tutorials, you can:\n",
    "- Set up and initialize the OmniGenomeModelforRNADesign for RNA sequence design.\n",
    "- Run RNA sequence design with a genetic algorithm.\n",
    "- Tune the parameters to optimize the design process.\n",
    "- Save and load results.\n",
    "- Visualize the RNA secondary structure using RNAfold.\n",
    "\n",
    "Explore more advanced configurations and tweak parameters for better results!\n"
   ]
  }
 ],
 "metadata": {
  "kernelspec": {
   "display_name": "",
   "name": ""
  },
  "language_info": {
   "name": ""
  }
 },
 "nbformat": 4,
 "nbformat_minor": 5
}
