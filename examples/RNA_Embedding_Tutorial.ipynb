{
 "cells": [
  {
   "cell_type": "markdown",
   "id": "5d0dbe4f",
   "metadata": {},
   "source": [
    "# RNA Embedding Model Tutorial\n",
    "This tutorial will guide you through how to use the RNA embedding model using the `OmniGenomeModelForEmbedding` class. We will cover initializing the model, encoding RNA sequences, saving/loading embeddings, and computing similarities."
   ]
  },
  {
   "cell_type": "markdown",
   "id": "b4e3bc0f",
   "metadata": {},
   "source": [
    "## Step 1: Install Required Dependencies\n",
    "Before we start, make sure you have the necessary libraries installed. You can install them using the following command:"
   ]
  },
  {
   "cell_type": "code",
   "execution_count": null,
   "id": "3483bb9e",
   "metadata": {},
   "outputs": [],
   "source": "!pip install OmniGenome torch transformers autocuda"
  },
  {
   "cell_type": "markdown",
   "id": "ee5d3b0b",
   "metadata": {},
   "source": [
    "## Step 2: Setting Up the Embedding Model\n",
    "First, let's initialize the `OmniGenomeModelForEmbedding` class with a pre-trained model."
   ]
  },
  {
   "cell_type": "code",
   "execution_count": null,
   "id": "dcaed138",
   "metadata": {},
   "outputs": [],
   "source": [
    "from omnigenome import OmniGenomeModelForEmbedding\n",
    "\n",
    "# Initialize the model using a pre-trained model path (replace with RNA-specific model if available)\n",
    "model_name = \"bert-base-uncased\"  # Example model, replace with your own model\n",
    "embedding_model = OmniGenomeModelForEmbedding(model_name)"
   ]
  },
  {
   "cell_type": "markdown",
   "id": "594c3e9b",
   "metadata": {},
   "source": [
    "## Step 3: Encoding RNA Sequences into Embeddings\n",
    "We'll now encode a batch of RNA sequences into embeddings."
   ]
  },
  {
   "cell_type": "code",
   "execution_count": null,
   "id": "b589c766",
   "metadata": {},
   "outputs": [],
   "source": [
    "# Example RNA sequences (replace these with your own RNA sequences)\n",
    "rna_sequences = [\n",
    "    \"AUGGCUACG\",\n",
    "    \"CGGAUACGGC\",\n",
    "    \"UGGCCAAGUC\",\n",
    "    \"AUGCUGCUAUGCUA\"\n",
    "]\n",
    "\n",
    "# Encode the RNA sequences into embeddings\n",
    "rna_embeddings = embedding_model.encode_sequences(rna_sequences)\n",
    "\n",
    "# Display the generated embeddings\n",
    "print(\"RNA Embeddings:\")\n",
    "print(rna_embeddings)"
   ]
  },
  {
   "cell_type": "markdown",
   "id": "b3324a3e",
   "metadata": {},
   "source": [
    "## Step 4: Saving and Loading Embeddings\n",
    "You can save the generated embeddings to a file and load them later when needed."
   ]
  },
  {
   "cell_type": "code",
   "execution_count": null,
   "id": "80325ceb",
   "metadata": {},
   "outputs": [],
   "source": [
    "# Save embeddings to a file\n",
    "embedding_model.save_embeddings(rna_embeddings, \"rna_embeddings.pt\")\n",
    "\n",
    "# Load the embeddings from the file\n",
    "loaded_embeddings = embedding_model.load_embeddings(\"rna_embeddings.pt\")\n",
    "\n",
    "# Display the loaded embeddings to verify\n",
    "print(\"Loaded RNA Embeddings:\")\n",
    "print(loaded_embeddings)"
   ]
  },
  {
   "cell_type": "markdown",
   "id": "f3031cb7",
   "metadata": {},
   "source": [
    "## Step 5: Computing Similarity Between RNA Sequences\n",
    "Let's compute the similarity between two RNA sequence embeddings using cosine similarity."
   ]
  },
  {
   "cell_type": "code",
   "execution_count": null,
   "id": "eccda5d6",
   "metadata": {},
   "outputs": [],
   "source": [
    "# Compute the similarity between the first two RNA sequence embeddings\n",
    "similarity = embedding_model.compute_similarity(loaded_embeddings[0], loaded_embeddings[1])\n",
    "\n",
    "# Display the similarity score\n",
    "print(f\"Similarity between the first two RNA sequences: {similarity:.4f}\")"
   ]
  },
  {
   "cell_type": "markdown",
   "id": "a7feaac9",
   "metadata": {},
   "source": [
    "## Step 6: Encoding a Single RNA Sequence\n",
    "You can also encode a single RNA sequence into its embedding."
   ]
  },
  {
   "cell_type": "code",
   "execution_count": null,
   "id": "0e41c528",
   "metadata": {},
   "outputs": [],
   "source": [
    "# Example single RNA sequence\n",
    "single_rna_sequence = \"AUGGCUACG\"\n",
    "\n",
    "# Get the embedding for the single RNA sequence\n",
    "single_rna_embedding = embedding_model.encode_single_sequence(single_rna_sequence)\n",
    "\n",
    "# Display the embedding for the single RNA sequence\n",
    "print(\"Single RNA Sequence Embedding:\")\n",
    "print(single_rna_embedding)"
   ]
  },
  {
   "cell_type": "markdown",
   "id": "ac2bebb0",
   "metadata": {},
   "source": [
    "## Full Example\n",
    "Here's a complete example that walks through all the steps we covered in the tutorial."
   ]
  },
  {
   "cell_type": "code",
   "execution_count": null,
   "id": "8ab16b9e",
   "metadata": {},
   "outputs": [],
   "source": [
    "from model import OmniGenomeModelForEmbedding\n",
    "\n",
    "# Step 1: Initialize the model\n",
    "model_name = \"bert-base-uncased\"  # Replace with your RNA-specific model\n",
    "embedding_model = OmniGenomeModelForEmbedding(model_name)\n",
    "\n",
    "# Step 2: Encode RNA sequences\n",
    "rna_sequences = [\"AUGGCUACG\", \"CGGAUACGGC\"]\n",
    "rna_embeddings = embedding_model.encode_sequences(rna_sequences)\n",
    "print(\"RNA Embeddings:\", rna_embeddings)\n",
    "\n",
    "# Step 3: Save embeddings to a file\n",
    "embedding_model.save_embeddings(rna_embeddings, \"rna_embeddings.pt\")\n",
    "\n",
    "# Step 4: Load embeddings from the file\n",
    "loaded_embeddings = embedding_model.load_embeddings(\"rna_embeddings.pt\")\n",
    "\n",
    "# Step 5: Compute similarity between the first two RNA sequence embeddings\n",
    "similarity = embedding_model.compute_similarity(loaded_embeddings[0], loaded_embeddings[1])\n",
    "print(f\"Similarity between RNA sequences: {similarity:.4f}\")\n",
    "\n",
    "# Step 6: Encode a single RNA sequence\n",
    "single_rna_sequence = \"AUGGCUACG\"\n",
    "single_rna_embedding = embedding_model.encode_single_sequence(single_rna_sequence)\n",
    "print(\"Single RNA Sequence Embedding:\", single_rna_embedding)"
   ]
  }
 ],
 "metadata": {},
 "nbformat": 4,
 "nbformat_minor": 5
}
