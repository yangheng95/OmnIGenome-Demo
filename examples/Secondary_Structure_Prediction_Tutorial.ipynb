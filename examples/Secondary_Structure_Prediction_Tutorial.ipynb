{
 "cells": [
  {
   "cell_type": "markdown",
   "id": "cb8791301d129bc3",
   "metadata": {
    "collapsed": false,
    "jupyter": {
     "outputs_hidden": false
    }
   },
   "source": [
    "# OmniGenome - A Demonstration based on RNA Secondary Structure Prediction\n",
    "GitHub: https://github.com/yangheng95/OmniGenome\n",
    "OmniGenome Hub: Huggingface Spaces"
   ]
  },
  {
   "cell_type": "markdown",
   "id": "e6ba6af13c774056",
   "metadata": {
    "collapsed": false,
    "jupyter": {
     "outputs_hidden": false
    }
   },
   "source": [
    "## Introduction\n",
    "OmniGenome is a comprehensive package designed for pretrained genomic foundation models (FMs) development and FM benchmark. \n",
    "OmniGenome have the following key features:\n",
    "- Automated genomic FM benchmarking on public genomic datasets\n",
    "- Scalable genomic FM training and fine-tuning on genomic tasks\n",
    "- Diversified genomic FMs implementation\n",
    "- Easy-to-use pipeline for genomic FM development with no coding expertise required\n",
    "- Accessible OmniGenome Hub for sharing FMs, datasets, and pipelines\n",
    "- Extensive documentation and tutorials for genomic FM development\n",
    "\n",
    "We begin to introduce OmniGenome by delivering a demonstration to train a model to predict RNA secondary structures. The dataset used in this demonstration is the bpRNA dataset which contains RNA sequences and their corresponding secondary structures. The secondary structure of an RNA sequence is a set of base pairs that describe the folding of the RNA molecule. The secondary structure of an RNA sequence is important for understanding the function of the RNA molecule. In this demonstration, we will train a model to predict the secondary structure of an RNA sequence given its primary sequence."
   ]
  },
  {
   "cell_type": "markdown",
   "id": "d27e521782ae2e1",
   "metadata": {
    "collapsed": false,
    "jupyter": {
     "outputs_hidden": false
    }
   },
   "source": [
    "## Requirements\n",
    "OmniGenome requires the following recommended dependencies:\n",
    "- Python 3.9+\n",
    "- PyTorch 2.0.0+\n",
    "- Transformers 4.37.0+\n",
    "- Pandas 1.3.3+\n",
    "- Others in case of specific tasks"
   ]
  },
  {
   "cell_type": "markdown",
   "id": "088128bb-9047-4805-ba69-87d429075428",
   "metadata": {},
   "source": [
    "pip install OmniGenome\n"
   ]
  },
  {
   "cell_type": "markdown",
   "id": "3c9549d261227cd9",
   "metadata": {
    "collapsed": false,
    "jupyter": {
     "outputs_hidden": false
    }
   },
   "source": [
    "## Fine-tuning Genomic FMs for RNA Secondary Structure Prediction"
   ]
  },
  {
   "cell_type": "markdown",
   "id": "663dd5c83138b645",
   "metadata": {
    "collapsed": false,
    "jupyter": {
     "outputs_hidden": false
    }
   },
   "source": [
    "### Step 1: Import Libraries"
   ]
  },
  {
   "cell_type": "code",
   "execution_count": 1,
   "id": "ca34214dcffab840",
   "metadata": {
    "ExecuteTime": {
     "end_time": "2024-08-10T13:54:08.912328Z",
     "start_time": "2024-08-10T13:54:04.687968Z"
    },
    "collapsed": false,
    "jupyter": {
     "outputs_hidden": false
    }
   },
   "outputs": [],
   "source": [
    "import os\n",
    "\n",
    "import autocuda\n",
    "import torch\n",
    "from metric_visualizer import MetricVisualizer\n",
    "\n",
    "from omnigenome import OmniGenomeDatasetForTokenClassification\n",
    "from omnigenome import ClassificationMetric\n",
    "from omnigenome import OmniSingleNucleotideTokenizer, OmniKmersTokenizer\n",
    "from omnigenome import OmniGenomeModelForTokenClassification\n",
    "from omnigenome import Trainer"
   ]
  },
  {
   "cell_type": "markdown",
   "id": "7503b044b1583f95",
   "metadata": {
    "collapsed": false,
    "jupyter": {
     "outputs_hidden": false
    }
   },
   "source": [
    "### Step 2: Define and Initialize the Tokenizer"
   ]
  },
  {
   "cell_type": "code",
   "execution_count": 2,
   "id": "16024cfe02062f96",
   "metadata": {
    "ExecuteTime": {
     "end_time": "2024-08-10T13:54:12.346090Z",
     "start_time": "2024-08-10T13:54:08.913329Z"
    },
    "collapsed": false,
    "jupyter": {
     "outputs_hidden": false
    }
   },
   "outputs": [],
   "source": [
    "# Predefined dataset label mapping\n",
    "label2id = {\"(\": 0, \")\": 1, \".\": 2}\n",
    "\n",
    "# The is FM is exclusively powered by the OmniGenome package\n",
    "model_name_or_path = \"anonymous8/OmniGenome-186M\"\n",
    "\n",
    "# Generally, we use the tokenizers from transformers library, such as AutoTokenizer\n",
    "# tokenizer = AutoTokenizer.from_pretrained(model_name_or_path)\n",
    "\n",
    "# However, OmniGenome provides specialized tokenizers for genomic data, such as single nucleotide tokenizer and k-mers tokenizer\n",
    "# we can force the tokenizer to be used in the model\n",
    "tokenizer = OmniSingleNucleotideTokenizer.from_pretrained(model_name_or_path)"
   ]
  },
  {
   "cell_type": "markdown",
   "id": "8595c35b48e02524",
   "metadata": {
    "collapsed": false,
    "jupyter": {
     "outputs_hidden": false
    }
   },
   "source": [
    "### Step 3: Define and Initialize the Model"
   ]
  },
  {
   "cell_type": "code",
   "execution_count": 3,
   "id": "1320999dd4bdeafd",
   "metadata": {
    "ExecuteTime": {
     "end_time": "2024-08-10T13:54:13.406338Z",
     "start_time": "2024-08-10T13:54:12.347092Z"
    },
    "collapsed": false,
    "jupyter": {
     "outputs_hidden": false
    }
   },
   "outputs": [
    {
     "name": "stderr",
     "output_type": "stream",
     "text": [
      "You are using a model of type omnigenome to instantiate a model of type mprna. This is not supported for all configurations of models and can yield errors.\n",
      "Some weights of the model checkpoint at anonymous8/OmniGenome-186M were not used when initializing OmniGenomeModel: ['classifier.bias', 'classifier.weight', 'dense.bias', 'dense.weight', 'lm_head.bias', 'lm_head.decoder.weight', 'lm_head.dense.bias', 'lm_head.dense.weight', 'lm_head.layer_norm.bias', 'lm_head.layer_norm.weight']\n",
      "- This IS expected if you are initializing OmniGenomeModel from the checkpoint of a model trained on another task or with another architecture (e.g. initializing a BertForSequenceClassification model from a BertForPreTraining model).\n",
      "- This IS NOT expected if you are initializing OmniGenomeModel from the checkpoint of a model that you expect to be exactly identical (initializing a BertForSequenceClassification model from a BertForSequenceClassification model).\n",
      "Some weights of OmniGenomeModel were not initialized from the model checkpoint at anonymous8/OmniGenome-186M and are newly initialized: ['OmniGenome.pooler.dense.bias', 'OmniGenome.pooler.dense.weight']\n",
      "You should probably TRAIN this model on a down-stream task to be able to use it for predictions and inference.\n"
     ]
    },
    {
     "name": "stdout",
     "output_type": "stream",
     "text": [
      "[2024-08-11 17:43:16] (0.0.8alpha) Model Name: OmniGenomeModelForTokenClassification\n",
      "Model Metadata: {'library_name': 'OmniGenome', 'omnigenome_version': '0.0.8alpha', 'torch_version': '2.1.2+cu12.1+gita8e7c98cb95ff97bb30a728c6b2a1ce6bff946eb', 'transformers_version': '4.43.2', 'model_cls': 'OmniGenomeModelForTokenClassification', 'tokenizer_cls': 'OmniSingleNucleotideTokenizer', 'model_name': 'OmniGenomeModelForTokenClassification'}\n",
      "Base Model Name: anonymous8/OmniGenome-186M\n",
      "Model Type: omnigenome\n",
      "Model Architecture: ['OmniGenomeModel', 'OmniGenomeForTokenClassification', 'OmniGenomeForMaskedLM', 'OmniGenomeModelForSeq2SeqLM', 'OmniGenomeForTSequenceClassification', 'OmniGenomeForTokenClassification', 'OmniGenomeForSeq2SeqLM']\n",
      "Model Parameters: 185.886801 M\n",
      "Model Config: OmniGenomeConfig {\n",
      "  \"OmniGenomefold_config\": null,\n",
      "  \"_name_or_path\": \"anonymous8/OmniGenome-186M\",\n",
      "  \"architectures\": [\n",
      "    \"OmniGenomeModel\",\n",
      "    \"OmniGenomeForTokenClassification\",\n",
      "    \"OmniGenomeForMaskedLM\",\n",
      "    \"OmniGenomeModelForSeq2SeqLM\",\n",
      "    \"OmniGenomeForTSequenceClassification\",\n",
      "    \"OmniGenomeForTokenClassification\",\n",
      "    \"OmniGenomeForSeq2SeqLM\"\n",
      "  ],\n",
      "  \"attention_probs_dropout_prob\": 0.0,\n",
      "  \"auto_map\": {\n",
      "    \"AutoConfig\": \"anonymous8/OmniGenome-186M--configuration_omnigenome.OmniGenomeConfig\",\n",
      "    \"AutoModel\": \"anonymous8/OmniGenome-186M--modeling_omnigenome.OmniGenomeModel\",\n",
      "    \"AutoModelForMaskedLM\": \"anonymous8/OmniGenome-186M--modeling_omnigenome.OmniGenomeForMaskedLM\",\n",
      "    \"AutoModelForSeq2SeqLM\": \"anonymous8/OmniGenome-186M--modeling_omnigenome.OmniGenomeForSeq2SeqLM\",\n",
      "    \"AutoModelForSequenceClassification\": \"anonymous8/OmniGenome-186M--modeling_omnigenome.OmniGenomeForSequenceClassification\",\n",
      "    \"AutoModelForTokenClassification\": \"anonymous8/OmniGenome-186M--modeling_omnigenome.OmniGenomeForTokenClassification\"\n",
      "  },\n",
      "  \"classifier_dropout\": null,\n",
      "  \"emb_layer_norm_before\": false,\n",
      "  \"hidden_act\": \"gelu\",\n",
      "  \"hidden_dropout_prob\": 0,\n",
      "  \"hidden_size\": 720,\n",
      "  \"id2label\": {\n",
      "    \"0\": \"(\",\n",
      "    \"1\": \")\",\n",
      "    \"2\": \".\"\n",
      "  },\n",
      "  \"initializer_range\": 0.02,\n",
      "  \"intermediate_size\": 2560,\n",
      "  \"is_folding_model\": false,\n",
      "  \"label2id\": {\n",
      "    \"(\": 0,\n",
      "    \")\": 1,\n",
      "    \".\": 2\n",
      "  },\n",
      "  \"layer_norm_eps\": 1e-05,\n",
      "  \"mask_token_id\": 23,\n",
      "  \"max_position_embeddings\": 1026,\n",
      "  \"model_type\": \"mprna\",\n",
      "  \"num_attention_heads\": 30,\n",
      "  \"num_generation\": 50,\n",
      "  \"num_hidden_layers\": 32,\n",
      "  \"num_population\": 100,\n",
      "  \"pad_token_id\": 1,\n",
      "  \"position_embedding_type\": \"rotary\",\n",
      "  \"token_dropout\": true,\n",
      "  \"torch_dtype\": \"float32\",\n",
      "  \"transformers_version\": \"4.43.2\",\n",
      "  \"use_cache\": true,\n",
      "  \"vocab_list\": null,\n",
      "  \"vocab_size\": 24\n",
      "}\n",
      "\n",
      "\n"
     ]
    }
   ],
   "source": [
    "# We have implemented a diverse set of genomic models in OmniGenome, please refer to the documentation for more details\n",
    "ssp_model = OmniGenomeModelForTokenClassification(\n",
    "    model_name_or_path,\n",
    "    tokenizer=tokenizer,\n",
    "    label2id=label2id,\n",
    ")"
   ]
  },
  {
   "cell_type": "markdown",
   "id": "8519de4909b09ace",
   "metadata": {
    "collapsed": false,
    "jupyter": {
     "outputs_hidden": false
    }
   },
   "source": [
    "### Step 4: Define and Load the Dataset"
   ]
  },
  {
   "cell_type": "code",
   "execution_count": 4,
   "id": "3e25475aaf00da22",
   "metadata": {
    "ExecuteTime": {
     "end_time": "2024-08-10T13:54:13.735896Z",
     "start_time": "2024-08-10T13:54:13.406338Z"
    },
    "collapsed": false,
    "jupyter": {
     "outputs_hidden": false
    }
   },
   "outputs": [
    {
     "name": "stdout",
     "output_type": "stream",
     "text": [
      "[2024-08-11 17:43:16] (0.0.8alpha) Detected max_length=512 in the dataset, using it as the max_length.\n",
      "[2024-08-11 17:43:16] (0.0.8alpha) Loading data from toy_datasets/Archive2/train.json...\n",
      "[2024-08-11 17:43:16] (0.0.8alpha) Loaded 608 examples from toy_datasets/Archive2/train.json\n",
      "[2024-08-11 17:43:16] (0.0.8alpha) Detected shuffle=True, shuffling the examples...\n"
     ]
    },
    {
     "name": "stderr",
     "output_type": "stream",
     "text": [
      "100%|██████████████████████████████████████████████████████████████████████████████| 608/608 [00:00<00:00, 5249.80it/s]\n"
     ]
    },
    {
     "name": "stdout",
     "output_type": "stream",
     "text": [
      "[2024-08-11 17:43:17] (0.0.8alpha) {'avg_seq_len': 130.54276315789474, 'max_seq_len': 501, 'min_seq_len': 56, 'avg_label_len': 501.0, 'max_label_len': 501, 'min_label_len': 501}\n",
      "[2024-08-11 17:43:17] (0.0.8alpha) Detected max_length=512 in the dataset, using it as the max_length.\n",
      "[2024-08-11 17:43:17] (0.0.8alpha) Loading data from toy_datasets/Archive2/test.json...\n",
      "[2024-08-11 17:43:17] (0.0.8alpha) Loaded 82 examples from toy_datasets/Archive2/test.json\n",
      "[2024-08-11 17:43:17] (0.0.8alpha) Detected shuffle=True, shuffling the examples...\n"
     ]
    },
    {
     "name": "stderr",
     "output_type": "stream",
     "text": [
      "100%|████████████████████████████████████████████████████████████████████████████████| 82/82 [00:00<00:00, 3625.84it/s]\n"
     ]
    },
    {
     "name": "stdout",
     "output_type": "stream",
     "text": [
      "[2024-08-11 17:43:17] (0.0.8alpha) {'avg_seq_len': 131.23170731707316, 'max_seq_len': 321, 'min_seq_len': 67, 'avg_label_len': 321.0, 'max_label_len': 321, 'min_label_len': 321}\n",
      "[2024-08-11 17:43:17] (0.0.8alpha) Detected max_length=512 in the dataset, using it as the max_length.\n",
      "[2024-08-11 17:43:17] (0.0.8alpha) Loading data from toy_datasets/Archive2/valid.json...\n",
      "[2024-08-11 17:43:17] (0.0.8alpha) Loaded 76 examples from toy_datasets/Archive2/valid.json\n",
      "[2024-08-11 17:43:17] (0.0.8alpha) Detected shuffle=True, shuffling the examples...\n"
     ]
    },
    {
     "name": "stderr",
     "output_type": "stream",
     "text": [
      "100%|████████████████████████████████████████████████████████████████████████████████| 76/76 [00:00<00:00, 5782.41it/s]"
     ]
    },
    {
     "name": "stdout",
     "output_type": "stream",
     "text": [
      "[2024-08-11 17:43:17] (0.0.8alpha) {'avg_seq_len': 117.39473684210526, 'max_seq_len': 308, 'min_seq_len': 60, 'avg_label_len': 308.0, 'max_label_len': 308, 'min_label_len': 308}\n"
     ]
    },
    {
     "name": "stderr",
     "output_type": "stream",
     "text": [
      "\n"
     ]
    }
   ],
   "source": [
    "# necessary hyperparameters\n",
    "epochs = 10\n",
    "learning_rate = 2e-5\n",
    "weight_decay = 1e-5\n",
    "batch_size = 8\n",
    "max_length = 512\n",
    "seeds = [45]  # Each seed will be used for one run\n",
    "\n",
    "\n",
    "# Load the dataset according to the path\n",
    "train_file = \"toy_datasets/Archive2/train.json\"\n",
    "test_file = \"toy_datasets/Archive2/test.json\"\n",
    "valid_file = \"toy_datasets/Archive2/valid.json\"\n",
    "\n",
    "train_set = OmniGenomeDatasetForTokenClassification(\n",
    "    data_source=train_file,\n",
    "    tokenizer=tokenizer,\n",
    "    label2id=label2id,\n",
    "    max_length=max_length,\n",
    ")\n",
    "test_set = OmniGenomeDatasetForTokenClassification(\n",
    "    data_source=test_file,\n",
    "    tokenizer=tokenizer,\n",
    "    label2id=label2id,\n",
    "    max_length=max_length,\n",
    ")\n",
    "valid_set = OmniGenomeDatasetForTokenClassification(\n",
    "    data_source=valid_file,\n",
    "    tokenizer=tokenizer,\n",
    "    label2id=label2id,\n",
    "    max_length=max_length,\n",
    ")\n",
    "train_loader = torch.utils.data.DataLoader(\n",
    "    train_set, batch_size=batch_size, shuffle=True\n",
    ")\n",
    "valid_loader = torch.utils.data.DataLoader(valid_set, batch_size=batch_size)\n",
    "test_loader = torch.utils.data.DataLoader(test_set, batch_size=batch_size)"
   ]
  },
  {
   "cell_type": "markdown",
   "id": "5dc517064fcbaa9a",
   "metadata": {
    "collapsed": false,
    "jupyter": {
     "outputs_hidden": false
    }
   },
   "source": [
    "### Step 5: Define the Metrics\n",
    "We have implemented a diverse set of genomic metrics in OmniGenome, please refer to the documentation for more details.\n",
    "Users can also define their own metrics by inheriting the `OmniGenomeMetric` class. \n",
    "The `compute_metrics` can be a metric function list and each metric function should return a dictionary of metrics."
   ]
  },
  {
   "cell_type": "code",
   "execution_count": 5,
   "id": "8d610fa6cf0ab60d",
   "metadata": {
    "ExecuteTime": {
     "end_time": "2024-08-10T13:54:13.751228Z",
     "start_time": "2024-08-10T13:54:13.736896Z"
    },
    "collapsed": false,
    "jupyter": {
     "outputs_hidden": false
    }
   },
   "outputs": [],
   "source": [
    "compute_metrics = [\n",
    "    ClassificationMetric(ignore_y=-100).accuracy_score,\n",
    "    ClassificationMetric(ignore_y=-100, average=\"macro\").f1_score,\n",
    "    ClassificationMetric(ignore_y=-100).matthews_corrcoef,\n",
    "]\n"
   ]
  },
  {
   "cell_type": "markdown",
   "id": "cc7248c83eb073c4",
   "metadata": {
    "collapsed": false,
    "jupyter": {
     "outputs_hidden": false
    }
   },
   "source": [
    "## Step 6: Define and Initialize the Trainer"
   ]
  },
  {
   "cell_type": "code",
   "execution_count": 6,
   "id": "f1e8e0a121f14c82",
   "metadata": {
    "ExecuteTime": {
     "end_time": "2024-08-10T14:03:30.917834Z",
     "start_time": "2024-08-10T13:54:13.752235Z"
    },
    "collapsed": false,
    "jupyter": {
     "outputs_hidden": false
    }
   },
   "outputs": [
    {
     "name": "stderr",
     "output_type": "stream",
     "text": [
      "Evaluating: 100%|██████████████████████████████████████████████████████████████████████| 10/10 [00:01<00:00,  7.43it/s]\n"
     ]
    },
    {
     "name": "stdout",
     "output_type": "stream",
     "text": [
      "[2024-08-11 17:43:19] (0.0.8alpha) {'accuracy_score': 0.2790193842645382, 'f1_score': 0.28151975296578563, 'matthews_corrcoef': -0.09291127922709266}\n"
     ]
    },
    {
     "name": "stderr",
     "output_type": "stream",
     "text": [
      "Epoch 1/10 Loss: 0.7989: 100%|█████████████████████████████████████████████████████████| 76/76 [00:49<00:00,  1.54it/s]\n",
      "Evaluating: 100%|██████████████████████████████████████████████████████████████████████| 10/10 [00:01<00:00,  7.99it/s]\n"
     ]
    },
    {
     "name": "stdout",
     "output_type": "stream",
     "text": [
      "[2024-08-11 17:44:11] (0.0.8alpha) {'accuracy_score': 0.8913340935005701, 'f1_score': 0.8935400779001638, 'matthews_corrcoef': 0.8353253240117546}\n"
     ]
    },
    {
     "name": "stderr",
     "output_type": "stream",
     "text": [
      "Epoch 2/10 Loss: 0.6545: 100%|█████████████████████████████████████████████████████████| 76/76 [00:49<00:00,  1.54it/s]\n",
      "Evaluating: 100%|██████████████████████████████████████████████████████████████████████| 10/10 [00:01<00:00,  8.16it/s]\n"
     ]
    },
    {
     "name": "stdout",
     "output_type": "stream",
     "text": [
      "[2024-08-11 17:45:02] (0.0.8alpha) {'accuracy_score': 0.9076396807297605, 'f1_score': 0.9095038559875431, 'matthews_corrcoef': 0.8604032983011348}\n"
     ]
    },
    {
     "name": "stderr",
     "output_type": "stream",
     "text": [
      "Epoch 3/10 Loss: 0.6302: 100%|█████████████████████████████████████████████████████████| 76/76 [00:49<00:00,  1.55it/s]\n",
      "Evaluating: 100%|██████████████████████████████████████████████████████████████████████| 10/10 [00:01<00:00,  8.18it/s]\n"
     ]
    },
    {
     "name": "stdout",
     "output_type": "stream",
     "text": [
      "[2024-08-11 17:45:54] (0.0.8alpha) {'accuracy_score': 0.9148232611174458, 'f1_score': 0.9163503175903402, 'matthews_corrcoef': 0.86969111358666}\n"
     ]
    },
    {
     "name": "stderr",
     "output_type": "stream",
     "text": [
      "Epoch 4/10 Loss: 0.6151: 100%|█████████████████████████████████████████████████████████| 76/76 [00:49<00:00,  1.55it/s]\n",
      "Evaluating: 100%|██████████████████████████████████████████████████████████████████████| 10/10 [00:01<00:00,  8.19it/s]\n"
     ]
    },
    {
     "name": "stdout",
     "output_type": "stream",
     "text": [
      "[2024-08-11 17:46:45] (0.0.8alpha) {'accuracy_score': 0.9169897377423033, 'f1_score': 0.9185686268915924, 'matthews_corrcoef': 0.8725737867525207}\n"
     ]
    },
    {
     "name": "stderr",
     "output_type": "stream",
     "text": [
      "Epoch 5/10 Loss: 0.6071: 100%|█████████████████████████████████████████████████████████| 76/76 [00:48<00:00,  1.55it/s]\n",
      "Evaluating: 100%|██████████████████████████████████████████████████████████████████████| 10/10 [00:01<00:00,  8.22it/s]\n"
     ]
    },
    {
     "name": "stdout",
     "output_type": "stream",
     "text": [
      "[2024-08-11 17:47:36] (0.0.8alpha) {'accuracy_score': 0.9189281641961231, 'f1_score': 0.9205276415383489, 'matthews_corrcoef': 0.875436812852734}\n"
     ]
    },
    {
     "name": "stderr",
     "output_type": "stream",
     "text": [
      "Epoch 6/10 Loss: 0.6013: 100%|█████████████████████████████████████████████████████████| 76/76 [00:48<00:00,  1.56it/s]\n",
      "Evaluating: 100%|██████████████████████████████████████████████████████████████████████| 10/10 [00:01<00:00,  8.21it/s]\n"
     ]
    },
    {
     "name": "stdout",
     "output_type": "stream",
     "text": [
      "[2024-08-11 17:48:28] (0.0.8alpha) {'accuracy_score': 0.9210946408209806, 'f1_score': 0.9226092911100953, 'matthews_corrcoef': 0.879263171602823}\n"
     ]
    },
    {
     "name": "stderr",
     "output_type": "stream",
     "text": [
      "Epoch 7/10 Loss: 0.5989: 100%|█████████████████████████████████████████████████████████| 76/76 [00:48<00:00,  1.55it/s]\n",
      "Evaluating: 100%|██████████████████████████████████████████████████████████████████████| 10/10 [00:01<00:00,  8.24it/s]\n"
     ]
    },
    {
     "name": "stdout",
     "output_type": "stream",
     "text": [
      "[2024-08-11 17:49:19] (0.0.8alpha) {'accuracy_score': 0.9238312428734321, 'f1_score': 0.9253576750498466, 'matthews_corrcoef': 0.8831977559814651}\n"
     ]
    },
    {
     "name": "stderr",
     "output_type": "stream",
     "text": [
      "Epoch 8/10 Loss: 0.5979: 100%|█████████████████████████████████████████████████████████| 76/76 [00:48<00:00,  1.55it/s]\n",
      "Evaluating: 100%|██████████████████████████████████████████████████████████████████████| 10/10 [00:01<00:00,  8.23it/s]\n"
     ]
    },
    {
     "name": "stdout",
     "output_type": "stream",
     "text": [
      "[2024-08-11 17:50:10] (0.0.8alpha) {'accuracy_score': 0.9234891676168757, 'f1_score': 0.9250099970359921, 'matthews_corrcoef': 0.8820785908253933}\n"
     ]
    },
    {
     "name": "stderr",
     "output_type": "stream",
     "text": [
      "Epoch 9/10 Loss: 0.5955: 100%|█████████████████████████████████████████████████████████| 76/76 [00:49<00:00,  1.55it/s]\n",
      "Evaluating: 100%|██████████████████████████████████████████████████████████████████████| 10/10 [00:01<00:00,  8.17it/s]\n"
     ]
    },
    {
     "name": "stdout",
     "output_type": "stream",
     "text": [
      "[2024-08-11 17:51:00] (0.0.8alpha) {'accuracy_score': 0.9240592930444698, 'f1_score': 0.9255602479349917, 'matthews_corrcoef': 0.883211983456326}\n"
     ]
    },
    {
     "name": "stderr",
     "output_type": "stream",
     "text": [
      "Epoch 10/10 Loss: 0.5913: 100%|████████████████████████████████████████████████████████| 76/76 [00:49<00:00,  1.55it/s]\n",
      "Evaluating: 100%|██████████████████████████████████████████████████████████████████████| 10/10 [00:01<00:00,  8.24it/s]\n"
     ]
    },
    {
     "name": "stdout",
     "output_type": "stream",
     "text": [
      "[2024-08-11 17:51:51] (0.0.8alpha) {'accuracy_score': 0.9225769669327252, 'f1_score': 0.9241115922227455, 'matthews_corrcoef': 0.8821062314790764}\n"
     ]
    },
    {
     "name": "stderr",
     "output_type": "stream",
     "text": [
      "Testing: 100%|█████████████████████████████████████████████████████████████████████████| 11/11 [00:01<00:00,  8.05it/s]\n"
     ]
    },
    {
     "name": "stdout",
     "output_type": "stream",
     "text": [
      "[2024-08-11 17:51:53] (0.0.8alpha) {'accuracy_score': 0.902897046333868, 'f1_score': 0.9044334792769698, 'matthews_corrcoef': 0.8503789642989459}\n",
      "{'valid': [{'accuracy_score': 0.2790193842645382, 'f1_score': 0.28151975296578563, 'matthews_corrcoef': -0.09291127922709266}, {'accuracy_score': 0.8913340935005701, 'f1_score': 0.8935400779001638, 'matthews_corrcoef': 0.8353253240117546}], 'best_valid': {'accuracy_score': 0.9240592930444698, 'f1_score': 0.9255602479349917, 'matthews_corrcoef': 0.883211983456326}, 'test': [{'accuracy_score': 0.902897046333868, 'f1_score': 0.9044334792769698, 'matthews_corrcoef': 0.8503789642989459}]}\n",
      "\n",
      "----------------------------------------------- Raw Metric Records -----------------------------------------------\n",
      "╒══════════╤═════════════════╤══════════════════════╤═══════════╤══════════╤═══════╤═══════╤══════════╤══════════╕\n",
      "│ Metric   │ Trial           │ Values               │  Average  │  Median  │  Std  │  IQR  │   Min    │   Max    │\n",
      "╞══════════╪═════════════════╪══════════════════════╪═══════════╪══════════╪═══════╪═══════╪══════════╪══════════╡\n",
      "│ F1       │ OmniGenome-186M │ [0.9044334792769698] │ 0.904433  │ 0.904433 │   0   │   0   │ 0.904433 │ 0.904433 │\n",
      "├──────────┼─────────────────┼──────────────────────┼───────────┼──────────┼───────┼───────┼──────────┼──────────┤\n",
      "│ Accuracy │ OmniGenome-186M │ [0.902897046333868]  │ 0.902897  │ 0.902897 │   0   │   0   │ 0.902897 │ 0.902897 │\n",
      "╘══════════╧═════════════════╧══════════════════════╧═══════════╧══════════╧═══════╧═══════╧══════════╧══════════╛\n",
      "-------------------------------- https://github.com/yangheng95/metric_visualizer --------------------------------\n",
      "\n"
     ]
    },
    {
     "name": "stderr",
     "output_type": "stream",
     "text": [
      "C:\\Users\\chuan\\miniconda3\\lib\\site-packages\\metric_visualizer\\utils.py:31: RuntimeWarning: Precision loss occurred in moment calculation due to catastrophic cancellation. This occurs when the data are nearly identical. Results may be unreliable.\n",
      "  self.skewness = stats.skew(self.data, keepdims=True)\n"
     ]
    }
   ],
   "source": [
    "# Initialize the MetricVisualizer for logging the metrics\n",
    "mv = MetricVisualizer(name=\"OmniGenome-186M-SSP\")\n",
    "\n",
    "for seed in seeds:\n",
    "    optimizer = torch.optim.AdamW(\n",
    "        ssp_model.parameters(), lr=learning_rate, weight_decay=weight_decay\n",
    "    )\n",
    "    trainer = Trainer(\n",
    "        model=ssp_model,\n",
    "        train_loader=train_loader,\n",
    "        eval_loader=valid_loader,\n",
    "        test_loader=test_loader,\n",
    "        batch_size=batch_size,\n",
    "        epochs=epochs,\n",
    "        optimizer=optimizer,\n",
    "        compute_metrics=compute_metrics,\n",
    "        seeds=seed,\n",
    "        device=autocuda.auto_cuda(),\n",
    "    )\n",
    "\n",
    "    metrics = trainer.train()\n",
    "    test_metrics = metrics[\"test\"][-1]\n",
    "    mv.log(model_name_or_path.split(\"/\")[-1], \"F1\", test_metrics[\"f1_score\"])\n",
    "    mv.log(\n",
    "        model_name_or_path.split(\"/\")[-1],\n",
    "        \"Accuracy\",\n",
    "        test_metrics[\"accuracy_score\"],\n",
    "    )\n",
    "    print(metrics)\n",
    "    mv.summary()"
   ]
  },
  {
   "cell_type": "markdown",
   "id": "76741d8e43edad54",
   "metadata": {
    "collapsed": false,
    "jupyter": {
     "outputs_hidden": false
    }
   },
   "source": [
    "### Step 7. Experimental Results Visualization\n",
    "The experimental results are visualized in the following plots. The plots show the F1 score and accuracy of the model on the test set for each run. The average F1 score and accuracy are also shown."
   ]
  },
  {
   "cell_type": "markdown",
   "id": "4884016302230133",
   "metadata": {
    "collapsed": false,
    "jupyter": {
     "outputs_hidden": false
    }
   },
   "source": [
    "|### Step 8. Model Checkpoint for Sharing\n",
    "The model checkpoint can be saved and shared with others for further use. The model checkpoint can be loaded using the following code:"
   ]
  },
  {
   "cell_type": "markdown",
   "id": "d7fd53ee0cb763d3",
   "metadata": {
    "collapsed": false,
    "jupyter": {
     "outputs_hidden": false
    }
   },
   "source": [
    "**Regular checkpointing and resuming are good practices to save the model at different stages of training.**"
   ]
  },
  {
   "cell_type": "code",
   "execution_count": 7,
   "id": "76f033919c69bde4",
   "metadata": {
    "ExecuteTime": {
     "end_time": "2024-08-10T14:03:36.507812Z",
     "start_time": "2024-08-10T14:03:30.918789Z"
    },
    "collapsed": false,
    "jupyter": {
     "outputs_hidden": false
    }
   },
   "outputs": [
    {
     "name": "stdout",
     "output_type": "stream",
     "text": [
      "[2024-08-11 17:51:55] (0.0.8alpha) The model is saved to OmniGenome-186M-SSP.\n",
      "[2024-08-11 17:51:58] (0.0.8alpha) Warning: The value of the key torch_dtype in the loaded model is torch.float16, but the current value is float16.\n",
      "[2024-08-11 17:51:58] (0.0.8alpha) Warning: The value of the key _name_or_path in the loaded model is OmniGenome-186M-SSP, but the current value is anonymous8/OmniGenome-186M.\n",
      "[2024-08-11 17:51:58] (0.0.8alpha) Warning: The value of the key _commit_hash in the loaded model is None, but the current value is 0ea2f7c3929aa2d3a2b004fad73ae16afe17d18a.\n",
      "[2024-08-11 17:51:58] (0.0.8alpha) Warning: The value of the key transformers_version in the loaded model is 4.43.2, but the current value is 4.41.0.dev0.\n",
      "[2024-08-11 17:51:58] (0.0.8alpha) Warning: The value of the key model_type in the loaded model is mprna, but the current value is omnigenome.\n",
      "['.', '(', '(', '(', '(', '(', '.', '.', '.', '.', '(', '(', '(', '.', '(', '.', '(', '(', '(', '.', '.', '.', '.', '.', '.', '.', ')', ')', ')', '.', ')', '.', ')', '.', '.', '.', '.', ')', ')', ')', ')', ')', '.']\n",
      "logits: tensor([[8.0241e-04, 6.8535e-04, 9.9851e-01],\n",
      "        [1.8072e-03, 2.7458e-04, 9.9792e-01],\n",
      "        [9.9968e-01, 1.4969e-04, 1.7153e-04],\n",
      "        [9.9977e-01, 1.2595e-04, 1.0330e-04],\n",
      "        [9.9973e-01, 1.5334e-04, 1.1417e-04],\n",
      "        [9.9977e-01, 1.1016e-04, 1.1670e-04],\n",
      "        [9.9974e-01, 1.4174e-04, 1.1885e-04],\n",
      "        [1.6035e-04, 8.9402e-05, 9.9975e-01],\n",
      "        [1.2057e-04, 1.2549e-04, 9.9975e-01],\n",
      "        [1.0425e-04, 1.2844e-04, 9.9977e-01],\n",
      "        [1.0099e-04, 1.1066e-04, 9.9979e-01],\n",
      "        [9.9936e-01, 2.3561e-04, 4.0091e-04],\n",
      "        [9.9964e-01, 1.5549e-04, 2.0940e-04],\n",
      "        [9.9949e-01, 1.4136e-04, 3.7019e-04],\n",
      "        [3.0048e-04, 1.4218e-04, 9.9956e-01],\n",
      "        [9.9924e-01, 2.6267e-04, 4.9686e-04],\n",
      "        [2.3464e-01, 1.5779e-03, 7.6379e-01],\n",
      "        [9.9944e-01, 2.1302e-04, 3.4890e-04],\n",
      "        [9.9943e-01, 2.3252e-04, 3.3931e-04],\n",
      "        [9.8945e-01, 4.7213e-04, 1.0077e-02],\n",
      "        [1.9276e-04, 1.0888e-04, 9.9970e-01],\n",
      "        [1.8010e-04, 1.4927e-04, 9.9967e-01],\n",
      "        [8.2282e-05, 1.0816e-04, 9.9981e-01],\n",
      "        [8.3079e-05, 1.3431e-04, 9.9978e-01],\n",
      "        [9.0559e-05, 2.3991e-04, 9.9967e-01],\n",
      "        [8.2159e-05, 1.9781e-04, 9.9972e-01],\n",
      "        [1.2829e-04, 1.6677e-04, 9.9970e-01],\n",
      "        [2.1760e-03, 6.7431e-01, 3.2351e-01],\n",
      "        [2.3911e-04, 9.9938e-01, 3.8139e-04],\n",
      "        [1.3654e-04, 9.9912e-01, 7.4456e-04],\n",
      "        [2.3898e-04, 2.9068e-04, 9.9947e-01],\n",
      "        [7.0051e-04, 6.3645e-01, 3.6285e-01],\n",
      "        [3.5826e-04, 7.7297e-03, 9.9191e-01],\n",
      "        [6.9229e-04, 7.6308e-01, 2.3623e-01],\n",
      "        [3.1615e-04, 3.1499e-02, 9.6818e-01],\n",
      "        [6.1732e-05, 1.1555e-04, 9.9982e-01],\n",
      "        [6.4652e-05, 2.9019e-04, 9.9965e-01],\n",
      "        [6.6991e-05, 1.6510e-04, 9.9977e-01],\n",
      "        [9.8428e-05, 9.9977e-01, 1.3399e-04],\n",
      "        [1.2540e-04, 9.9977e-01, 1.0871e-04],\n",
      "        [1.0226e-04, 9.9977e-01, 1.2271e-04],\n",
      "        [1.1149e-04, 9.9978e-01, 1.0948e-04],\n",
      "        [1.0455e-04, 9.9966e-01, 2.3631e-04],\n",
      "        [1.1773e-04, 1.8630e-04, 9.9970e-01],\n",
      "        [5.4235e-04, 1.9674e-03, 9.9749e-01]], device='cuda:0')\n"
     ]
    },
    {
     "name": "stderr",
     "output_type": "stream",
     "text": [
      "C:\\Users\\chuan\\miniconda3\\lib\\site-packages\\transformers\\tokenization_utils_base.py:2906: UserWarning: `max_length` is ignored when `padding`=`True` and there is no truncation strategy. To pad to max length, use `padding='max_length'`.\n",
      "  warnings.warn(\n"
     ]
    }
   ],
   "source": [
    "path_to_save = \"OmniGenome-186M-SSP\"\n",
    "ssp_model.save(path_to_save, overwrite=True)\n",
    "\n",
    "# Load the model checkpoint\n",
    "ssp_model = ssp_model.load(path_to_save)\n",
    "results = ssp_model.inference(\"CAGUGCCGAGGCCACGCGGAGAACGAUCGAGGGUACAGCACUA\")\n",
    "print(results[\"predictions\"])\n",
    "print(\"logits:\", results[\"logits\"])"
   ]
  },
  {
   "cell_type": "markdown",
   "id": "a21a8bad49fc08b9",
   "metadata": {
    "collapsed": false,
    "jupyter": {
     "outputs_hidden": false
    }
   },
   "source": [
    "\n",
    "# What if someone doesn't know how to initialize the model?"
   ]
  },
  {
   "cell_type": "code",
   "execution_count": 8,
   "id": "49781e637e711ddf",
   "metadata": {
    "ExecuteTime": {
     "end_time": "2024-08-10T14:03:38.749961Z",
     "start_time": "2024-08-10T14:03:36.508767Z"
    },
    "collapsed": false,
    "jupyter": {
     "outputs_hidden": false
    }
   },
   "outputs": [
    {
     "name": "stdout",
     "output_type": "stream",
     "text": [
      "[2024-08-11 17:52:00] (0.0.8alpha) Model Name: OmniGenomeModelForTokenClassification\n",
      "Model Metadata: {'library_name': 'OmniGenome', 'omnigenome_version': '0.0.8alpha', 'torch_version': '2.1.2+cu12.1+gita8e7c98cb95ff97bb30a728c6b2a1ce6bff946eb', 'transformers_version': '4.43.2', 'model_cls': 'OmniGenomeModelForTokenClassification', 'tokenizer_cls': 'OmniSingleNucleotideTokenizer', 'model_name': 'OmniGenomeModelForTokenClassification'}\n",
      "Base Model Name: OmniGenome-186M-SSP\n",
      "Model Type: mprna\n",
      "Model Architecture: ['OmniGenomeModel']\n",
      "Model Parameters: 185.886801 M\n",
      "Model Config: OmniGenomeConfig {\n",
      "  \"OmniGenomefold_config\": null,\n",
      "  \"_name_or_path\": \"OmniGenome-186M-SSP\",\n",
      "  \"architectures\": [\n",
      "    \"OmniGenomeModel\"\n",
      "  ],\n",
      "  \"attention_probs_dropout_prob\": 0.0,\n",
      "  \"auto_map\": {\n",
      "    \"AutoConfig\": \"anonymous8/OmniGenome-186M--configuration_omnigenome.OmniGenomeConfig\",\n",
      "    \"AutoModel\": \"anonymous8/OmniGenome-186M--modeling_omnigenome.OmniGenomeModel\",\n",
      "    \"AutoModelForMaskedLM\": \"anonymous8/OmniGenome-186M--modeling_omnigenome.OmniGenomeForMaskedLM\",\n",
      "    \"AutoModelForSeq2SeqLM\": \"anonymous8/OmniGenome-186M--modeling_omnigenome.OmniGenomeForSeq2SeqLM\",\n",
      "    \"AutoModelForSequenceClassification\": \"anonymous8/OmniGenome-186M--modeling_omnigenome.OmniGenomeForSequenceClassification\",\n",
      "    \"AutoModelForTokenClassification\": \"anonymous8/OmniGenome-186M--modeling_omnigenome.OmniGenomeForTokenClassification\"\n",
      "  },\n",
      "  \"classifier_dropout\": null,\n",
      "  \"emb_layer_norm_before\": false,\n",
      "  \"hidden_act\": \"gelu\",\n",
      "  \"hidden_dropout_prob\": 0,\n",
      "  \"hidden_size\": 720,\n",
      "  \"id2label\": {\n",
      "    \"0\": \"(\",\n",
      "    \"1\": \")\",\n",
      "    \"2\": \".\"\n",
      "  },\n",
      "  \"initializer_range\": 0.02,\n",
      "  \"intermediate_size\": 2560,\n",
      "  \"is_folding_model\": false,\n",
      "  \"label2id\": {\n",
      "    \"(\": 0,\n",
      "    \")\": 1,\n",
      "    \".\": 2\n",
      "  },\n",
      "  \"layer_norm_eps\": 1e-05,\n",
      "  \"mask_token_id\": 23,\n",
      "  \"max_position_embeddings\": 1026,\n",
      "  \"metadata\": {\n",
      "    \"library_name\": \"OmniGenome\",\n",
      "    \"model_cls\": \"OmniGenomeModelForTokenClassification\",\n",
      "    \"model_name\": \"OmniGenomeModelForTokenClassification\",\n",
      "    \"omnigenome_version\": \"0.0.8alpha\",\n",
      "    \"tokenizer_cls\": \"OmniSingleNucleotideTokenizer\",\n",
      "    \"torch_version\": \"2.1.2+cu12.1+gita8e7c98cb95ff97bb30a728c6b2a1ce6bff946eb\",\n",
      "    \"transformers_version\": \"4.43.2\"\n",
      "  },\n",
      "  \"model_type\": \"mprna\",\n",
      "  \"num_attention_heads\": 30,\n",
      "  \"num_generation\": 50,\n",
      "  \"num_hidden_layers\": 32,\n",
      "  \"num_population\": 100,\n",
      "  \"pad_token_id\": 1,\n",
      "  \"position_embedding_type\": \"rotary\",\n",
      "  \"token_dropout\": true,\n",
      "  \"torch_dtype\": \"float16\",\n",
      "  \"transformers_version\": \"4.43.2\",\n",
      "  \"use_cache\": true,\n",
      "  \"vocab_list\": null,\n",
      "  \"vocab_size\": 24\n",
      "}\n",
      "\n",
      "\n",
      "['.', '(', '(', '(', '(', '(', '.', '.', '.', '.', '(', '(', '(', '.', '(', '.', '(', '(', '(', '.', '.', '.', '.', '.', '.', '.', ')', ')', ')', '.', ')', '.', ')', '.', '.', '.', '.', ')', ')', ')', ')', ')', '.']\n",
      "logits: tensor([[8.0241e-04, 6.8535e-04, 9.9851e-01],\n",
      "        [1.8072e-03, 2.7458e-04, 9.9792e-01],\n",
      "        [9.9968e-01, 1.4969e-04, 1.7153e-04],\n",
      "        [9.9977e-01, 1.2595e-04, 1.0330e-04],\n",
      "        [9.9973e-01, 1.5334e-04, 1.1417e-04],\n",
      "        [9.9977e-01, 1.1016e-04, 1.1670e-04],\n",
      "        [9.9974e-01, 1.4174e-04, 1.1885e-04],\n",
      "        [1.6035e-04, 8.9402e-05, 9.9975e-01],\n",
      "        [1.2057e-04, 1.2549e-04, 9.9975e-01],\n",
      "        [1.0425e-04, 1.2844e-04, 9.9977e-01],\n",
      "        [1.0099e-04, 1.1066e-04, 9.9979e-01],\n",
      "        [9.9936e-01, 2.3561e-04, 4.0091e-04],\n",
      "        [9.9964e-01, 1.5549e-04, 2.0940e-04],\n",
      "        [9.9949e-01, 1.4136e-04, 3.7019e-04],\n",
      "        [3.0048e-04, 1.4218e-04, 9.9956e-01],\n",
      "        [9.9924e-01, 2.6267e-04, 4.9686e-04],\n",
      "        [2.3464e-01, 1.5779e-03, 7.6379e-01],\n",
      "        [9.9944e-01, 2.1302e-04, 3.4890e-04],\n",
      "        [9.9943e-01, 2.3252e-04, 3.3931e-04],\n",
      "        [9.8945e-01, 4.7213e-04, 1.0077e-02],\n",
      "        [1.9276e-04, 1.0888e-04, 9.9970e-01],\n",
      "        [1.8010e-04, 1.4927e-04, 9.9967e-01],\n",
      "        [8.2282e-05, 1.0816e-04, 9.9981e-01],\n",
      "        [8.3079e-05, 1.3431e-04, 9.9978e-01],\n",
      "        [9.0559e-05, 2.3991e-04, 9.9967e-01],\n",
      "        [8.2159e-05, 1.9781e-04, 9.9972e-01],\n",
      "        [1.2829e-04, 1.6677e-04, 9.9970e-01],\n",
      "        [2.1760e-03, 6.7431e-01, 3.2351e-01],\n",
      "        [2.3911e-04, 9.9938e-01, 3.8139e-04],\n",
      "        [1.3654e-04, 9.9912e-01, 7.4456e-04],\n",
      "        [2.3898e-04, 2.9068e-04, 9.9947e-01],\n",
      "        [7.0051e-04, 6.3645e-01, 3.6285e-01],\n",
      "        [3.5826e-04, 7.7297e-03, 9.9191e-01],\n",
      "        [6.9229e-04, 7.6308e-01, 2.3623e-01],\n",
      "        [3.1615e-04, 3.1499e-02, 9.6818e-01],\n",
      "        [6.1732e-05, 1.1555e-04, 9.9982e-01],\n",
      "        [6.4652e-05, 2.9019e-04, 9.9965e-01],\n",
      "        [6.6991e-05, 1.6510e-04, 9.9977e-01],\n",
      "        [9.8428e-05, 9.9977e-01, 1.3399e-04],\n",
      "        [1.2540e-04, 9.9977e-01, 1.0871e-04],\n",
      "        [1.0226e-04, 9.9977e-01, 1.2271e-04],\n",
      "        [1.1149e-04, 9.9978e-01, 1.0948e-04],\n",
      "        [1.0455e-04, 9.9966e-01, 2.3631e-04],\n",
      "        [1.1773e-04, 1.8630e-04, 9.9970e-01],\n",
      "        [5.4235e-04, 1.9674e-03, 9.9749e-01]], device='cuda:0')\n"
     ]
    }
   ],
   "source": [
    "# We can load the model checkpoint using the ModelHub\n",
    "from omnigenome import ModelHub\n",
    "\n",
    "ssp_model = ModelHub.load(\"OmniGenome-186M-SSP\")\n",
    "results = ssp_model.inference(\"CAGUGCCGAGGCCACGCGGAGAACGAUCGAGGGUACAGCACUA\")\n",
    "print(results[\"predictions\"])\n",
    "print(\"logits:\", results[\"logits\"])"
   ]
  },
  {
   "cell_type": "markdown",
   "id": "455cc1d9fe4fa2b6",
   "metadata": {
    "collapsed": false,
    "jupyter": {
     "outputs_hidden": false
    }
   },
   "source": [
    "## Step 8. Model Inference"
   ]
  },
  {
   "cell_type": "code",
   "execution_count": 9,
   "id": "235bbab39e1f23a4",
   "metadata": {
    "ExecuteTime": {
     "end_time": "2024-08-10T14:03:38.844515Z",
     "start_time": "2024-08-10T14:03:38.750961Z"
    },
    "collapsed": false,
    "jupyter": {
     "outputs_hidden": false
    }
   },
   "outputs": [
    {
     "name": "stdout",
     "output_type": "stream",
     "text": [
      "{'predictions': [['(', '(', '(', '(', '(', '.', '(', '(', '(', '.', '(', '(', '(', '(', '(', '.', '.', '.', '.', '.', '.', '.', '.', ')', ')', ')', ')', '.', ')', ')', ')', '.', '.', '.', '.', '.', '(', '(', '(', '(', '.', '.', '.', '.', '.', '.', '.', '.', ')', ')', ')', ')', '.', ')', ')', ')', ')', ')'], ['.', '.', '.', '.', '.', '.', '.', '(', '(', '(', '(', '(', '.', '.', '.', '.', '.', '.', ')', ')', ')', ')', ')', '.', '.', '.', '.', '.', '.', '.', '.', '.', '.', '.', '(', '(', '(', '(', '.', '.', '.', '.', '.', '.', '(', '(', '(', '.', '.', '(', '(', '(', '.', '.', '.', '.', '.', '.', '.', ')', ')', ')', '.', '.', '.', ')', ')', ')', '.', '.', ')', ')', ')', ')', ')', ')', '.', '(', '(', '(', '(', '(', '(', '(', '(', '(', '.', '.', '.', '.', ')', ')', ')', ')', ')', ')', '.', ')', ')', ')']], 'logits': tensor([[[2.4458e-04, 2.9453e-04, 9.9946e-01],\n",
      "         [9.9968e-01, 1.8715e-04, 1.3058e-04],\n",
      "         [9.9971e-01, 1.7857e-04, 1.1603e-04],\n",
      "         [9.9969e-01, 1.9235e-04, 1.2017e-04],\n",
      "         [9.9974e-01, 1.6477e-04, 9.5490e-05],\n",
      "         [9.9973e-01, 1.7072e-04, 1.0310e-04],\n",
      "         [3.8932e-02, 4.0654e-04, 9.6066e-01],\n",
      "         [9.9081e-01, 2.5896e-04, 8.9282e-03],\n",
      "         [9.9954e-01, 7.5703e-05, 3.8098e-04],\n",
      "         [9.9973e-01, 6.5632e-05, 2.0909e-04],\n",
      "         [2.3895e-04, 7.7541e-05, 9.9968e-01],\n",
      "         [9.9162e-01, 3.2099e-04, 8.0553e-03],\n",
      "         [9.9925e-01, 1.8155e-04, 5.6669e-04],\n",
      "         [9.9848e-01, 2.5072e-04, 1.2702e-03],\n",
      "         [9.9588e-01, 2.8798e-04, 3.8292e-03],\n",
      "         [9.7094e-01, 3.9280e-04, 2.8666e-02],\n",
      "         [1.2957e-04, 6.7293e-05, 9.9980e-01],\n",
      "         [9.2345e-05, 6.8185e-05, 9.9984e-01],\n",
      "         [9.1842e-05, 7.8858e-05, 9.9983e-01],\n",
      "         [6.2752e-05, 8.0315e-05, 9.9986e-01],\n",
      "         [6.7975e-05, 8.9869e-05, 9.9984e-01],\n",
      "         [1.0997e-04, 2.0999e-04, 9.9968e-01],\n",
      "         [6.6543e-05, 1.7473e-04, 9.9976e-01],\n",
      "         [5.0369e-04, 1.6350e-01, 8.3600e-01],\n",
      "         [9.0685e-05, 9.9954e-01, 3.6993e-04],\n",
      "         [1.0369e-04, 9.9932e-01, 5.7892e-04],\n",
      "         [6.1102e-05, 9.9971e-01, 2.2508e-04],\n",
      "         [6.7252e-05, 9.9913e-01, 8.0190e-04],\n",
      "         [1.0101e-04, 1.5238e-04, 9.9975e-01],\n",
      "         [9.6041e-05, 9.9968e-01, 2.2805e-04],\n",
      "         [4.0995e-04, 8.3305e-01, 1.6654e-01],\n",
      "         [3.2397e-04, 8.9397e-01, 1.0571e-01],\n",
      "         [1.4482e-04, 1.3955e-02, 9.8590e-01],\n",
      "         [6.9360e-05, 1.0573e-04, 9.9982e-01],\n",
      "         [9.7087e-05, 1.0292e-04, 9.9980e-01],\n",
      "         [8.7814e-05, 1.0701e-04, 9.9981e-01],\n",
      "         [1.1646e-04, 1.1553e-04, 9.9977e-01],\n",
      "         [9.9965e-01, 1.4555e-04, 2.0718e-04],\n",
      "         [9.9954e-01, 2.0246e-04, 2.6042e-04],\n",
      "         [9.9966e-01, 2.0734e-04, 1.3327e-04],\n",
      "         [9.9941e-01, 2.7658e-04, 3.1286e-04],\n",
      "         [1.7521e-04, 1.8747e-04, 9.9964e-01],\n",
      "         [1.4355e-04, 9.9796e-05, 9.9976e-01],\n",
      "         [9.4866e-05, 9.8983e-05, 9.9981e-01],\n",
      "         [6.6438e-05, 8.6681e-05, 9.9985e-01],\n",
      "         [5.4376e-05, 7.8099e-05, 9.9987e-01],\n",
      "         [5.3411e-05, 1.1499e-04, 9.9983e-01],\n",
      "         [6.6659e-05, 2.9356e-04, 9.9964e-01],\n",
      "         [6.7383e-05, 2.9874e-04, 9.9963e-01],\n",
      "         [1.1811e-04, 9.9960e-01, 2.7738e-04],\n",
      "         [1.3575e-04, 9.9971e-01, 1.5813e-04],\n",
      "         [7.3413e-05, 9.9977e-01, 1.5353e-04],\n",
      "         [7.1526e-05, 9.9979e-01, 1.3900e-04],\n",
      "         [7.8159e-05, 3.5420e-04, 9.9957e-01],\n",
      "         [2.0607e-04, 9.9963e-01, 1.6156e-04],\n",
      "         [2.3425e-04, 9.9959e-01, 1.7652e-04],\n",
      "         [2.2851e-04, 9.9949e-01, 2.7702e-04],\n",
      "         [2.0683e-04, 9.9956e-01, 2.3107e-04],\n",
      "         [3.4234e-04, 9.9909e-01, 5.6296e-04],\n",
      "         [2.3100e-04, 6.6516e-04, 9.9910e-01],\n",
      "         [8.5801e-05, 1.1262e-04, 9.9980e-01],\n",
      "         [1.0100e-04, 1.4332e-04, 9.9976e-01],\n",
      "         [1.2906e-04, 1.4361e-04, 9.9973e-01],\n",
      "         [1.7723e-04, 1.5324e-04, 9.9967e-01],\n",
      "         [2.0009e-04, 1.3927e-04, 9.9966e-01],\n",
      "         [4.3333e-04, 1.4627e-04, 9.9942e-01],\n",
      "         [1.5578e-04, 6.9429e-05, 9.9977e-01],\n",
      "         [1.3025e-04, 8.9878e-05, 9.9978e-01],\n",
      "         [1.5267e-04, 8.9521e-05, 9.9976e-01],\n",
      "         [2.2551e-04, 9.4320e-05, 9.9968e-01],\n",
      "         [9.5946e-05, 7.5395e-05, 9.9983e-01],\n",
      "         [7.3750e-05, 6.2262e-05, 9.9986e-01],\n",
      "         [6.7474e-05, 6.6945e-05, 9.9987e-01],\n",
      "         [7.9817e-05, 7.6630e-05, 9.9984e-01],\n",
      "         [8.7196e-05, 1.0430e-04, 9.9981e-01],\n",
      "         [8.1214e-05, 1.0127e-04, 9.9982e-01],\n",
      "         [6.2139e-05, 8.7996e-05, 9.9985e-01],\n",
      "         [7.6052e-05, 1.5072e-04, 9.9977e-01],\n",
      "         [1.3132e-04, 2.3917e-04, 9.9963e-01],\n",
      "         [1.2195e-04, 4.7527e-04, 9.9940e-01],\n",
      "         [7.3472e-04, 1.6395e-01, 8.3531e-01],\n",
      "         [3.2393e-04, 9.9711e-01, 2.5650e-03],\n",
      "         [6.9540e-04, 8.5083e-01, 1.4847e-01],\n",
      "         [1.0265e-04, 3.9632e-04, 9.9950e-01],\n",
      "         [9.1168e-05, 1.1855e-04, 9.9979e-01],\n",
      "         [1.0727e-04, 1.2373e-04, 9.9977e-01],\n",
      "         [1.5165e-04, 1.4414e-04, 9.9970e-01],\n",
      "         [1.1259e-04, 1.6083e-04, 9.9973e-01],\n",
      "         [1.1293e-04, 1.3731e-04, 9.9975e-01],\n",
      "         [1.3517e-04, 1.1040e-04, 9.9975e-01],\n",
      "         [1.6120e-04, 1.1981e-04, 9.9972e-01],\n",
      "         [2.0792e-04, 1.5390e-04, 9.9964e-01],\n",
      "         [3.7049e-04, 2.6302e-04, 9.9937e-01],\n",
      "         [5.7098e-04, 3.1766e-04, 9.9911e-01],\n",
      "         [2.3590e-03, 7.7065e-04, 9.9687e-01],\n",
      "         [4.7256e-03, 9.3478e-04, 9.9434e-01],\n",
      "         [4.9784e-02, 3.7355e-03, 9.4648e-01],\n",
      "         [1.4179e-04, 7.7191e-05, 9.9978e-01],\n",
      "         [1.5795e-04, 9.7193e-05, 9.9974e-01],\n",
      "         [1.1839e-04, 8.7829e-05, 9.9979e-01],\n",
      "         [1.0780e-04, 8.3822e-05, 9.9981e-01],\n",
      "         [8.9514e-05, 8.0147e-05, 9.9983e-01]],\n",
      "\n",
      "        [[3.9569e-04, 2.4930e-04, 9.9936e-01],\n",
      "         [1.9868e-04, 1.1945e-04, 9.9968e-01],\n",
      "         [5.0411e-04, 1.7495e-04, 9.9932e-01],\n",
      "         [2.8695e-04, 1.4937e-04, 9.9956e-01],\n",
      "         [4.5617e-04, 1.7753e-04, 9.9937e-01],\n",
      "         [6.7205e-04, 2.6345e-04, 9.9906e-01],\n",
      "         [2.3186e-04, 1.2470e-04, 9.9964e-01],\n",
      "         [1.3745e-04, 8.0860e-05, 9.9978e-01],\n",
      "         [9.9966e-01, 1.5046e-04, 1.8733e-04],\n",
      "         [9.9973e-01, 1.1524e-04, 1.5680e-04],\n",
      "         [9.9969e-01, 1.0497e-04, 2.0725e-04],\n",
      "         [9.9972e-01, 1.2338e-04, 1.5183e-04],\n",
      "         [9.9948e-01, 1.4946e-04, 3.7327e-04],\n",
      "         [1.6641e-04, 6.9403e-05, 9.9976e-01],\n",
      "         [9.3493e-05, 7.4080e-05, 9.9983e-01],\n",
      "         [1.0837e-04, 8.3742e-05, 9.9981e-01],\n",
      "         [1.0277e-04, 7.7325e-05, 9.9982e-01],\n",
      "         [6.8879e-05, 9.2819e-05, 9.9984e-01],\n",
      "         [6.4741e-05, 1.0482e-04, 9.9983e-01],\n",
      "         [1.2431e-04, 9.9643e-01, 3.4445e-03],\n",
      "         [1.6579e-04, 9.9967e-01, 1.6150e-04],\n",
      "         [3.3586e-04, 9.9947e-01, 1.9213e-04],\n",
      "         [2.2018e-04, 9.9954e-01, 2.4348e-04],\n",
      "         [1.8809e-04, 9.9962e-01, 1.9520e-04],\n",
      "         [1.2736e-04, 9.5000e-05, 9.9978e-01],\n",
      "         [1.0255e-04, 8.5937e-05, 9.9981e-01],\n",
      "         [7.6329e-05, 8.9930e-05, 9.9983e-01],\n",
      "         [1.2604e-04, 9.4003e-05, 9.9978e-01],\n",
      "         [9.9790e-05, 1.0354e-04, 9.9980e-01],\n",
      "         [1.0511e-04, 8.9037e-05, 9.9981e-01],\n",
      "         [8.6558e-05, 7.4615e-05, 9.9984e-01],\n",
      "         [1.4547e-04, 1.4036e-04, 9.9971e-01],\n",
      "         [1.9739e-04, 1.4267e-04, 9.9966e-01],\n",
      "         [4.2130e-04, 3.0790e-04, 9.9927e-01],\n",
      "         [3.5211e-04, 1.4888e-04, 9.9950e-01],\n",
      "         [9.9950e-01, 2.2158e-04, 2.7776e-04],\n",
      "         [9.9957e-01, 2.1549e-04, 2.1694e-04],\n",
      "         [9.9954e-01, 1.5746e-04, 3.0039e-04],\n",
      "         [9.9966e-01, 1.5534e-04, 1.8776e-04],\n",
      "         [1.9792e-02, 2.2271e-04, 9.7999e-01],\n",
      "         [2.8085e-04, 7.3651e-05, 9.9965e-01],\n",
      "         [1.4179e-04, 6.8673e-05, 9.9979e-01],\n",
      "         [2.7716e-04, 7.0701e-05, 9.9965e-01],\n",
      "         [4.3783e-03, 2.8395e-04, 9.9534e-01],\n",
      "         [1.4646e-04, 7.1869e-05, 9.9978e-01],\n",
      "         [6.6058e-01, 1.6691e-03, 3.3775e-01],\n",
      "         [9.7598e-01, 1.0990e-03, 2.2922e-02],\n",
      "         [6.7642e-01, 1.3222e-03, 3.2225e-01],\n",
      "         [1.4284e-01, 1.1195e-03, 8.5604e-01],\n",
      "         [1.0736e-02, 1.3971e-03, 9.8787e-01],\n",
      "         [9.9259e-01, 8.8906e-04, 6.5207e-03],\n",
      "         [9.9477e-01, 6.1016e-04, 4.6163e-03],\n",
      "         [9.8733e-01, 1.2583e-03, 1.1409e-02],\n",
      "         [2.7577e-04, 2.8709e-04, 9.9944e-01],\n",
      "         [9.8108e-05, 1.3244e-04, 9.9977e-01],\n",
      "         [7.7432e-05, 1.5000e-04, 9.9977e-01],\n",
      "         [8.7345e-05, 1.0363e-04, 9.9981e-01],\n",
      "         [9.1520e-05, 1.3899e-04, 9.9977e-01],\n",
      "         [7.2311e-05, 1.0865e-04, 9.9982e-01],\n",
      "         [1.0688e-04, 1.7087e-03, 9.9818e-01],\n",
      "         [1.4058e-04, 9.9785e-01, 2.0130e-03],\n",
      "         [1.3697e-04, 9.9747e-01, 2.3910e-03],\n",
      "         [3.6230e-04, 9.7732e-01, 2.2315e-02],\n",
      "         [6.3310e-05, 7.4447e-05, 9.9986e-01],\n",
      "         [6.0260e-05, 9.9677e-05, 9.9984e-01],\n",
      "         [6.2579e-05, 8.8337e-05, 9.9985e-01],\n",
      "         [1.5951e-04, 9.9714e-01, 2.6995e-03],\n",
      "         [3.7151e-04, 9.9490e-01, 4.7318e-03],\n",
      "         [1.5582e-04, 9.9739e-01, 2.4536e-03],\n",
      "         [3.0166e-04, 1.9242e-01, 8.0728e-01],\n",
      "         [8.8418e-05, 8.4392e-04, 9.9907e-01],\n",
      "         [2.3250e-04, 9.4894e-01, 5.0831e-02],\n",
      "         [9.0127e-04, 9.5044e-01, 4.8656e-02],\n",
      "         [1.1057e-04, 9.9943e-01, 4.5540e-04],\n",
      "         [1.0952e-04, 9.9941e-01, 4.7737e-04],\n",
      "         [1.0293e-04, 9.9965e-01, 2.4838e-04],\n",
      "         [1.3366e-04, 9.9904e-01, 8.2613e-04],\n",
      "         [2.6239e-04, 3.4179e-04, 9.9940e-01],\n",
      "         [9.9899e-01, 4.5507e-04, 5.5769e-04],\n",
      "         [9.9940e-01, 3.4406e-04, 2.6095e-04],\n",
      "         [9.9912e-01, 2.6102e-04, 6.1583e-04],\n",
      "         [9.9900e-01, 7.1279e-04, 2.8394e-04],\n",
      "         [9.9921e-01, 5.9424e-04, 1.9114e-04],\n",
      "         [9.9943e-01, 4.6595e-04, 1.0437e-04],\n",
      "         [9.9950e-01, 2.5900e-04, 2.3724e-04],\n",
      "         [9.9957e-01, 2.5886e-04, 1.7324e-04],\n",
      "         [9.9553e-01, 4.6928e-04, 3.9974e-03],\n",
      "         [6.7241e-05, 9.5410e-05, 9.9984e-01],\n",
      "         [6.3152e-05, 1.0031e-04, 9.9984e-01],\n",
      "         [5.9460e-05, 9.9488e-05, 9.9984e-01],\n",
      "         [8.9533e-05, 1.8740e-04, 9.9972e-01],\n",
      "         [3.5589e-04, 9.9382e-01, 5.8234e-03],\n",
      "         [2.7958e-04, 9.7743e-01, 2.2292e-02],\n",
      "         [1.3352e-04, 9.9752e-01, 2.3453e-03],\n",
      "         [1.6707e-04, 9.9876e-01, 1.0775e-03],\n",
      "         [1.2522e-04, 9.9908e-01, 7.9147e-04],\n",
      "         [1.9803e-04, 9.9684e-01, 2.9615e-03],\n",
      "         [9.8399e-05, 1.8405e-04, 9.9972e-01],\n",
      "         [9.0291e-05, 9.9874e-01, 1.1677e-03],\n",
      "         [7.3794e-05, 9.9920e-01, 7.2704e-04],\n",
      "         [1.2687e-04, 9.9617e-01, 3.7001e-03],\n",
      "         [2.6345e-04, 1.0121e-03, 9.9872e-01]]], device='cuda:0'), 'last_hidden_state': tensor([[[ 0.6225, -0.0142,  0.3417,  ..., -0.8350,  0.6950,  0.0122],\n",
      "         [ 0.5098,  0.2632,  0.4508,  ..., -0.0542, -0.3744,  0.3085],\n",
      "         [ 0.3304, -0.0706,  0.5190,  ..., -0.4323, -0.4408,  0.3608],\n",
      "         ...,\n",
      "         [ 0.8815, -0.2915,  0.4685,  ..., -0.6013,  0.7773, -0.2447],\n",
      "         [ 0.8334, -0.3189,  0.4019,  ..., -0.6391,  0.8216, -0.2887],\n",
      "         [ 0.7736, -0.3229,  0.3105,  ..., -0.7900,  0.8073, -0.3357]],\n",
      "\n",
      "        [[ 0.8442,  0.0705,  0.5083,  ..., -0.4362,  0.8828, -0.2508],\n",
      "         [ 0.8295, -0.0301,  0.4844,  ..., -0.8869,  0.0812,  0.1671],\n",
      "         [ 0.9094,  0.3603,  0.7471,  ..., -0.5944,  0.2751, -0.3416],\n",
      "         ...,\n",
      "         [-0.7824,  0.1581, -0.8000,  ..., -0.2772,  0.5014,  0.1850],\n",
      "         [-0.7882,  0.6704, -0.8703,  ..., -0.4553,  0.7861, -0.1652],\n",
      "         [ 0.3163,  0.0580,  0.2595,  ..., -0.6415,  0.6288, -0.2301]]],\n",
      "       device='cuda:0')}\n",
      "['(((((.(((.(((((........)))).))).....((((........)))).)))))', '.......(((((......)))))...........((((......(((..(((.......)))...)))..)))))).(((((((((....)))))).)))']\n"
     ]
    }
   ],
   "source": [
    "examples = [\n",
    "    \"GCUGGGAUGUUGGCUUAGAAGCAGCCAUCAUUUAAAGAGUGCGUAACAGCUCACCAGC\",\n",
    "    \"AUCUGUACUAGUUAGCUAACUAGAUCUGUAUCUGGCGGUUCCGUGGAAGAACUGACGUGUUCAUAUUCCCGACCGCAGCCCUGGGAGACGUCUCAGAGGC\",\n",
    "]\n",
    "\n",
    "results = ssp_model.inference(examples)\n",
    "structures = [\"\".join(prediction) for prediction in results[\"predictions\"]]\n",
    "print(results)\n",
    "print(structures)"
   ]
  },
  {
   "cell_type": "markdown",
   "id": "eb99207fb37d0617",
   "metadata": {
    "collapsed": false,
    "jupyter": {
     "outputs_hidden": false
    }
   },
   "source": [
    "### Step 9. Pipeline Creation\n",
    "The OmniGenome package provides pipelines for genomic FM development. The pipeline can be used to train, fine-tune, and evaluate genomic FMs. The pipeline can be used with a single command to train a genomic FM on a dataset. The pipeline can also be used to fine-tune a pre-trained genomic FM on a new dataset. The pipeline can be used to evaluate the performance of a genomic FM on a dataset. The pipeline can be used to generate predictions using a genomic FM."
   ]
  },
  {
   "cell_type": "code",
   "execution_count": 10,
   "id": "43fe9fdfb572e05c",
   "metadata": {
    "ExecuteTime": {
     "end_time": "2024-08-10T14:03:38.860192Z",
     "start_time": "2024-08-10T14:03:38.845514Z"
    },
    "collapsed": false,
    "jupyter": {
     "outputs_hidden": false
    }
   },
   "outputs": [],
   "source": [
    "# from omnigenome import Pipeline, PipelineHub\n",
    "# \n",
    "# pipeline = Pipeline(\n",
    "#     name=\"OmniGenome-186M-SSP-Pipeline\",\n",
    "#     # model_name_or_path=\"OmniGenome-186M-SSP\",  # The model name or path can be specified\n",
    "#     # tokenizer=\"OmniGenome-186M-SSP\",  # The tokenizer can be specified\n",
    "#     model_name_or_path=ssp_model,\n",
    "#     tokenizer=ssp_model.tokenizer,\n",
    "#     datasets={\n",
    "#         \"train\": \"toy_datasets/train.json\",\n",
    "#         \"test\": \"toy_datasets/test.json\",\n",
    "#         \"valid\": \"toy_datasets/valid.json\",\n",
    "#     },\n",
    "#     trainer=trainer,\n",
    "#     device=ssp_model.model.device,\n",
    "# )"
   ]
  },
  {
   "cell_type": "markdown",
   "id": "73f32771d90b4f70",
   "metadata": {
    "collapsed": false,
    "jupyter": {
     "outputs_hidden": false
    }
   },
   "source": [
    "### Using the Pipeline"
   ]
  },
  {
   "cell_type": "code",
   "execution_count": 11,
   "id": "838493d3cb0ab98d",
   "metadata": {
    "ExecuteTime": {
     "end_time": "2024-08-10T14:08:56.959666Z",
     "start_time": "2024-08-10T14:03:38.861706Z"
    },
    "collapsed": false,
    "jupyter": {
     "outputs_hidden": false
    }
   },
   "outputs": [],
   "source": [
    "# results = pipeline(examples[0])\n",
    "# print(results)\n",
    "# \n",
    "# pipeline.train()\n",
    "# \n",
    "# pipeline.save(\"OmniGenome-186M-SSP-Pipeline\", overwrite=True)\n",
    "# \n",
    "# pipeline = PipelineHub.load(\"OmniGenome-186M-SSP-Pipeline\")\n",
    "# results = pipeline(examples)\n",
    "# print(results)"
   ]
  },
  {
   "cell_type": "markdown",
   "id": "3177cc9c4b0f1895",
   "metadata": {
    "collapsed": false,
    "jupyter": {
     "outputs_hidden": false
    }
   },
   "source": [
    "## Web Demo for RNA Secondary Structure Prediction"
   ]
  },
  {
   "cell_type": "code",
   "execution_count": 1,
   "id": "434d3f3a68737ff1",
   "metadata": {
    "ExecuteTime": {
     "end_time": "2024-08-14T21:47:28.819411Z",
     "start_time": "2024-08-14T21:47:09.399991Z"
    },
    "collapsed": false,
    "jupyter": {
     "outputs_hidden": false
    }
   },
   "outputs": [
    {
     "name": "stdout",
     "output_type": "stream",
     "text": [
      "['.ipynb_checkpoints', 'annotated_structure.svg', 'auto_benchmark.py', 'benchmark', 'benchmarks_info.json', 'best_pred_struct.svg', 'easy_rna_design.py', 'eterna100_contrafold.txt', 'eterna100_vienna2.txt', 'eterna100_vienna2.txt.result', 'EternaV2_RNA_design_demo.py', 'mlm_augmentation.py', 'OmniGenome-186M-SSP', 'OmniGenome-186M-SSP-Pipeline', 'OmniGenome_RNA_design.ipynb', 'predicted_structure.svg', 'readme.md', 'real_structure.svg', 'rna_modeling_using_omnigenome.py', 'secondary_structure_prediction_demo.ipynb', 'ssp_inference.py', 'test.py', 'toy_datasets', 'true_struct.svg', 'zero_shot_secondary_structure_prediction.py']\n",
      "[2024-08-14 22:47:21] (0.0.8alpha) Model Name: OmniGenomeModelForTokenClassification\n",
      "Model Metadata: {'library_name': 'OmniGenome', 'omnigenome_version': '0.0.8alpha', 'torch_version': '2.1.2+cu12.1+gita8e7c98cb95ff97bb30a728c6b2a1ce6bff946eb', 'transformers_version': '4.42.0.dev0', 'model_cls': 'OmniGenomeModelForTokenClassification', 'tokenizer_cls': 'OmniSingleNucleotideTokenizer', 'model_name': 'OmniGenomeModelForTokenClassification'}\n",
      "Base Model Name: OmniGenome-186M-SSP\n",
      "Model Type: mprna\n",
      "Model Architecture: ['OmniGenomeModel']\n",
      "Model Parameters: 185.886801 M\n",
      "Model Config: OmniGenomeConfig {\n",
      "  \"OmniGenomefold_config\": null,\n",
      "  \"_name_or_path\": \"OmniGenome-186M-SSP\",\n",
      "  \"architectures\": [\n",
      "    \"OmniGenomeModel\"\n",
      "  ],\n",
      "  \"attention_probs_dropout_prob\": 0.0,\n",
      "  \"auto_map\": {\n",
      "    \"AutoConfig\": \"anonymous8/OmniGenome-186M--configuration_omnigenome.OmniGenomeConfig\",\n",
      "    \"AutoModel\": \"anonymous8/OmniGenome-186M--modeling_omnigenome.OmniGenomeModel\",\n",
      "    \"AutoModelForMaskedLM\": \"anonymous8/OmniGenome-186M--modeling_omnigenome.OmniGenomeForMaskedLM\",\n",
      "    \"AutoModelForSeq2SeqLM\": \"anonymous8/OmniGenome-186M--modeling_omnigenome.OmniGenomeForSeq2SeqLM\",\n",
      "    \"AutoModelForSequenceClassification\": \"anonymous8/OmniGenome-186M--modeling_omnigenome.OmniGenomeForSequenceClassification\",\n",
      "    \"AutoModelForTokenClassification\": \"anonymous8/OmniGenome-186M--modeling_omnigenome.OmniGenomeForTokenClassification\"\n",
      "  },\n",
      "  \"classifier_dropout\": null,\n",
      "  \"emb_layer_norm_before\": false,\n",
      "  \"hidden_act\": \"gelu\",\n",
      "  \"hidden_dropout_prob\": 0,\n",
      "  \"hidden_size\": 720,\n",
      "  \"id2label\": {\n",
      "    \"0\": \"(\",\n",
      "    \"1\": \")\",\n",
      "    \"2\": \".\"\n",
      "  },\n",
      "  \"initializer_range\": 0.02,\n",
      "  \"intermediate_size\": 2560,\n",
      "  \"is_folding_model\": false,\n",
      "  \"label2id\": {\n",
      "    \"(\": 0,\n",
      "    \")\": 1,\n",
      "    \".\": 2\n",
      "  },\n",
      "  \"layer_norm_eps\": 1e-05,\n",
      "  \"mask_token_id\": 23,\n",
      "  \"max_position_embeddings\": 1026,\n",
      "  \"metadata\": {\n",
      "    \"library_name\": \"OmniGenome\",\n",
      "    \"model_cls\": \"OmniGenomeModelForTokenClassification\",\n",
      "    \"model_name\": \"OmniGenomeModelForTokenClassification\",\n",
      "    \"omnigenome_version\": \"0.0.8alpha\",\n",
      "    \"tokenizer_cls\": \"OmniSingleNucleotideTokenizer\",\n",
      "    \"torch_version\": \"2.1.2+cu12.1+gita8e7c98cb95ff97bb30a728c6b2a1ce6bff946eb\",\n",
      "    \"transformers_version\": \"4.43.2\"\n",
      "  },\n",
      "  \"model_type\": \"mprna\",\n",
      "  \"num_attention_heads\": 30,\n",
      "  \"num_generation\": 50,\n",
      "  \"num_hidden_layers\": 32,\n",
      "  \"num_population\": 100,\n",
      "  \"pad_token_id\": 1,\n",
      "  \"position_embedding_type\": \"rotary\",\n",
      "  \"token_dropout\": true,\n",
      "  \"torch_dtype\": \"float16\",\n",
      "  \"transformers_version\": \"4.42.0.dev0\",\n",
      "  \"use_cache\": true,\n",
      "  \"vocab_list\": null,\n",
      "  \"vocab_size\": 24\n",
      "}\n",
      "\n",
      "\n"
     ]
    },
    {
     "name": "stderr",
     "output_type": "stream",
     "text": [
      "C:\\Users\\chuan\\miniconda3\\lib\\site-packages\\gradio\\routes.py:1019: DeprecationWarning: \n",
      "        on_event is deprecated, use lifespan event handlers instead.\n",
      "\n",
      "        Read more about it in the\n",
      "        [FastAPI docs for Lifespan Events](https://fastapi.tiangolo.com/advanced/events/).\n",
      "        \n",
      "  @app.on_event(\"startup\")\n",
      "C:\\Users\\chuan\\miniconda3\\lib\\site-packages\\fastapi\\applications.py:4495: DeprecationWarning: \n",
      "        on_event is deprecated, use lifespan event handlers instead.\n",
      "\n",
      "        Read more about it in the\n",
      "        [FastAPI docs for Lifespan Events](https://fastapi.tiangolo.com/advanced/events/).\n",
      "        \n",
      "  return self.router.on_event(event_type)\n"
     ]
    },
    {
     "name": "stdout",
     "output_type": "stream",
     "text": [
      "Running on local URL:  http://127.0.0.1:7860\n",
      "IMPORTANT: You are using gradio version 4.25.0, however version 4.29.0 is available, please upgrade.\n",
      "--------\n",
      "Running on public URL: https://092094b2837cbc5f03.gradio.live\n",
      "\n",
      "This share link expires in 72 hours. For free permanent hosting and GPU upgrades, run `gradio deploy` from Terminal to deploy to Spaces (https://huggingface.co/spaces)\n"
     ]
    },
    {
     "ename": "ConnectTimeout",
     "evalue": "_ssl.c:1112: The handshake operation timed out",
     "output_type": "error",
     "traceback": [
      "\u001b[1;31m---------------------------------------------------------------------------\u001b[0m",
      "\u001b[1;31mConnectTimeout\u001b[0m                            Traceback (most recent call last)",
      "File \u001b[1;32m~\\miniconda3\\lib\\site-packages\\httpx\\_transports\\default.py:69\u001b[0m, in \u001b[0;36mmap_httpcore_exceptions\u001b[1;34m()\u001b[0m\n\u001b[0;32m     68\u001b[0m \u001b[38;5;28;01mtry\u001b[39;00m:\n\u001b[1;32m---> 69\u001b[0m     \u001b[38;5;28;01myield\u001b[39;00m\n\u001b[0;32m     70\u001b[0m \u001b[38;5;28;01mexcept\u001b[39;00m \u001b[38;5;167;01mException\u001b[39;00m \u001b[38;5;28;01mas\u001b[39;00m exc:\n",
      "File \u001b[1;32m~\\miniconda3\\lib\\site-packages\\httpx\\_transports\\default.py:233\u001b[0m, in \u001b[0;36mHTTPTransport.handle_request\u001b[1;34m(self, request)\u001b[0m\n\u001b[0;32m    232\u001b[0m \u001b[38;5;28;01mwith\u001b[39;00m map_httpcore_exceptions():\n\u001b[1;32m--> 233\u001b[0m     resp \u001b[38;5;241m=\u001b[39m \u001b[38;5;28;43mself\u001b[39;49m\u001b[38;5;241;43m.\u001b[39;49m\u001b[43m_pool\u001b[49m\u001b[38;5;241;43m.\u001b[39;49m\u001b[43mhandle_request\u001b[49m\u001b[43m(\u001b[49m\u001b[43mreq\u001b[49m\u001b[43m)\u001b[49m\n\u001b[0;32m    235\u001b[0m \u001b[38;5;28;01massert\u001b[39;00m \u001b[38;5;28misinstance\u001b[39m(resp\u001b[38;5;241m.\u001b[39mstream, typing\u001b[38;5;241m.\u001b[39mIterable)\n",
      "File \u001b[1;32m~\\miniconda3\\lib\\site-packages\\httpcore\\_sync\\connection_pool.py:216\u001b[0m, in \u001b[0;36mConnectionPool.handle_request\u001b[1;34m(self, request)\u001b[0m\n\u001b[0;32m    215\u001b[0m     \u001b[38;5;28mself\u001b[39m\u001b[38;5;241m.\u001b[39m_close_connections(closing)\n\u001b[1;32m--> 216\u001b[0m     \u001b[38;5;28;01mraise\u001b[39;00m exc \u001b[38;5;28;01mfrom\u001b[39;00m \u001b[38;5;28;01mNone\u001b[39;00m\n\u001b[0;32m    218\u001b[0m \u001b[38;5;66;03m# Return the response. Note that in this case we still have to manage\u001b[39;00m\n\u001b[0;32m    219\u001b[0m \u001b[38;5;66;03m# the point at which the response is closed.\u001b[39;00m\n",
      "File \u001b[1;32m~\\miniconda3\\lib\\site-packages\\httpcore\\_sync\\connection_pool.py:196\u001b[0m, in \u001b[0;36mConnectionPool.handle_request\u001b[1;34m(self, request)\u001b[0m\n\u001b[0;32m    194\u001b[0m \u001b[38;5;28;01mtry\u001b[39;00m:\n\u001b[0;32m    195\u001b[0m     \u001b[38;5;66;03m# Send the request on the assigned connection.\u001b[39;00m\n\u001b[1;32m--> 196\u001b[0m     response \u001b[38;5;241m=\u001b[39m \u001b[43mconnection\u001b[49m\u001b[38;5;241;43m.\u001b[39;49m\u001b[43mhandle_request\u001b[49m\u001b[43m(\u001b[49m\n\u001b[0;32m    197\u001b[0m \u001b[43m        \u001b[49m\u001b[43mpool_request\u001b[49m\u001b[38;5;241;43m.\u001b[39;49m\u001b[43mrequest\u001b[49m\n\u001b[0;32m    198\u001b[0m \u001b[43m    \u001b[49m\u001b[43m)\u001b[49m\n\u001b[0;32m    199\u001b[0m \u001b[38;5;28;01mexcept\u001b[39;00m ConnectionNotAvailable:\n\u001b[0;32m    200\u001b[0m     \u001b[38;5;66;03m# In some cases a connection may initially be available to\u001b[39;00m\n\u001b[0;32m    201\u001b[0m     \u001b[38;5;66;03m# handle a request, but then become unavailable.\u001b[39;00m\n\u001b[0;32m    202\u001b[0m     \u001b[38;5;66;03m#\u001b[39;00m\n\u001b[0;32m    203\u001b[0m     \u001b[38;5;66;03m# In this case we clear the connection and try again.\u001b[39;00m\n",
      "File \u001b[1;32m~\\miniconda3\\lib\\site-packages\\httpcore\\_sync\\connection.py:99\u001b[0m, in \u001b[0;36mHTTPConnection.handle_request\u001b[1;34m(self, request)\u001b[0m\n\u001b[0;32m     98\u001b[0m     \u001b[38;5;28mself\u001b[39m\u001b[38;5;241m.\u001b[39m_connect_failed \u001b[38;5;241m=\u001b[39m \u001b[38;5;28;01mTrue\u001b[39;00m\n\u001b[1;32m---> 99\u001b[0m     \u001b[38;5;28;01mraise\u001b[39;00m exc\n\u001b[0;32m    101\u001b[0m \u001b[38;5;28;01mreturn\u001b[39;00m \u001b[38;5;28mself\u001b[39m\u001b[38;5;241m.\u001b[39m_connection\u001b[38;5;241m.\u001b[39mhandle_request(request)\n",
      "File \u001b[1;32m~\\miniconda3\\lib\\site-packages\\httpcore\\_sync\\connection.py:76\u001b[0m, in \u001b[0;36mHTTPConnection.handle_request\u001b[1;34m(self, request)\u001b[0m\n\u001b[0;32m     75\u001b[0m \u001b[38;5;28;01mif\u001b[39;00m \u001b[38;5;28mself\u001b[39m\u001b[38;5;241m.\u001b[39m_connection \u001b[38;5;129;01mis\u001b[39;00m \u001b[38;5;28;01mNone\u001b[39;00m:\n\u001b[1;32m---> 76\u001b[0m     stream \u001b[38;5;241m=\u001b[39m \u001b[38;5;28;43mself\u001b[39;49m\u001b[38;5;241;43m.\u001b[39;49m\u001b[43m_connect\u001b[49m\u001b[43m(\u001b[49m\u001b[43mrequest\u001b[49m\u001b[43m)\u001b[49m\n\u001b[0;32m     78\u001b[0m     ssl_object \u001b[38;5;241m=\u001b[39m stream\u001b[38;5;241m.\u001b[39mget_extra_info(\u001b[38;5;124m\"\u001b[39m\u001b[38;5;124mssl_object\u001b[39m\u001b[38;5;124m\"\u001b[39m)\n",
      "File \u001b[1;32m~\\miniconda3\\lib\\site-packages\\httpcore\\_sync\\connection.py:154\u001b[0m, in \u001b[0;36mHTTPConnection._connect\u001b[1;34m(self, request)\u001b[0m\n\u001b[0;32m    153\u001b[0m \u001b[38;5;28;01mwith\u001b[39;00m Trace(\u001b[38;5;124m\"\u001b[39m\u001b[38;5;124mstart_tls\u001b[39m\u001b[38;5;124m\"\u001b[39m, logger, request, kwargs) \u001b[38;5;28;01mas\u001b[39;00m trace:\n\u001b[1;32m--> 154\u001b[0m     stream \u001b[38;5;241m=\u001b[39m stream\u001b[38;5;241m.\u001b[39mstart_tls(\u001b[38;5;241m*\u001b[39m\u001b[38;5;241m*\u001b[39mkwargs)\n\u001b[0;32m    155\u001b[0m     trace\u001b[38;5;241m.\u001b[39mreturn_value \u001b[38;5;241m=\u001b[39m stream\n",
      "File \u001b[1;32m~\\miniconda3\\lib\\site-packages\\httpcore\\_backends\\sync.py:168\u001b[0m, in \u001b[0;36mSyncStream.start_tls\u001b[1;34m(self, ssl_context, server_hostname, timeout)\u001b[0m\n\u001b[0;32m    167\u001b[0m         \u001b[38;5;28mself\u001b[39m\u001b[38;5;241m.\u001b[39mclose()\n\u001b[1;32m--> 168\u001b[0m         \u001b[38;5;28;01mraise\u001b[39;00m exc\n\u001b[0;32m    169\u001b[0m \u001b[38;5;28;01mreturn\u001b[39;00m SyncStream(sock)\n",
      "File \u001b[1;32m~\\miniconda3\\lib\\contextlib.py:137\u001b[0m, in \u001b[0;36m_GeneratorContextManager.__exit__\u001b[1;34m(self, typ, value, traceback)\u001b[0m\n\u001b[0;32m    136\u001b[0m \u001b[38;5;28;01mtry\u001b[39;00m:\n\u001b[1;32m--> 137\u001b[0m     \u001b[38;5;28;43mself\u001b[39;49m\u001b[38;5;241;43m.\u001b[39;49m\u001b[43mgen\u001b[49m\u001b[38;5;241;43m.\u001b[39;49m\u001b[43mthrow\u001b[49m\u001b[43m(\u001b[49m\u001b[43mtyp\u001b[49m\u001b[43m,\u001b[49m\u001b[43m \u001b[49m\u001b[43mvalue\u001b[49m\u001b[43m,\u001b[49m\u001b[43m \u001b[49m\u001b[43mtraceback\u001b[49m\u001b[43m)\u001b[49m\n\u001b[0;32m    138\u001b[0m \u001b[38;5;28;01mexcept\u001b[39;00m \u001b[38;5;167;01mStopIteration\u001b[39;00m \u001b[38;5;28;01mas\u001b[39;00m exc:\n\u001b[0;32m    139\u001b[0m     \u001b[38;5;66;03m# Suppress StopIteration *unless* it's the same exception that\u001b[39;00m\n\u001b[0;32m    140\u001b[0m     \u001b[38;5;66;03m# was passed to throw().  This prevents a StopIteration\u001b[39;00m\n\u001b[0;32m    141\u001b[0m     \u001b[38;5;66;03m# raised inside the \"with\" statement from being suppressed.\u001b[39;00m\n",
      "File \u001b[1;32m~\\miniconda3\\lib\\site-packages\\httpcore\\_exceptions.py:14\u001b[0m, in \u001b[0;36mmap_exceptions\u001b[1;34m(map)\u001b[0m\n\u001b[0;32m     13\u001b[0m     \u001b[38;5;28;01mif\u001b[39;00m \u001b[38;5;28misinstance\u001b[39m(exc, from_exc):\n\u001b[1;32m---> 14\u001b[0m         \u001b[38;5;28;01mraise\u001b[39;00m to_exc(exc) \u001b[38;5;28;01mfrom\u001b[39;00m \u001b[38;5;21;01mexc\u001b[39;00m\n\u001b[0;32m     15\u001b[0m \u001b[38;5;28;01mraise\u001b[39;00m\n",
      "\u001b[1;31mConnectTimeout\u001b[0m: _ssl.c:1112: The handshake operation timed out",
      "\nThe above exception was the direct cause of the following exception:\n",
      "\u001b[1;31mConnectTimeout\u001b[0m                            Traceback (most recent call last)",
      "Cell \u001b[1;32mIn[1], line 204\u001b[0m\n\u001b[0;32m    195\u001b[0m     repair_button\u001b[38;5;241m.\u001b[39mclick(\n\u001b[0;32m    196\u001b[0m         fn\u001b[38;5;241m=\u001b[39mrepair_rna_structure,\n\u001b[0;32m    197\u001b[0m         inputs\u001b[38;5;241m=\u001b[39m[rna_input, pred_structure_output],\n\u001b[0;32m    198\u001b[0m         outputs\u001b[38;5;241m=\u001b[39m[pred_structure_output, predicted_image],\n\u001b[0;32m    199\u001b[0m     )\n\u001b[0;32m    201\u001b[0m     sample_button\u001b[38;5;241m.\u001b[39mclick(\n\u001b[0;32m    202\u001b[0m         fn\u001b[38;5;241m=\u001b[39msample_rna_sequence, outputs\u001b[38;5;241m=\u001b[39m[rna_input, strcut_input, anno_structure_output]\n\u001b[0;32m    203\u001b[0m     )\n\u001b[1;32m--> 204\u001b[0m \u001b[43mdemo\u001b[49m\u001b[38;5;241;43m.\u001b[39;49m\u001b[43mlaunch\u001b[49m\u001b[43m(\u001b[49m\u001b[43mshare\u001b[49m\u001b[38;5;241;43m=\u001b[39;49m\u001b[38;5;28;43;01mTrue\u001b[39;49;00m\u001b[43m)\u001b[49m\n",
      "File \u001b[1;32m~\\miniconda3\\lib\\site-packages\\gradio\\blocks.py:2283\u001b[0m, in \u001b[0;36mBlocks.launch\u001b[1;34m(self, inline, inbrowser, share, debug, max_threads, auth, auth_message, prevent_thread_lock, show_error, server_name, server_port, height, width, favicon_path, ssl_keyfile, ssl_certfile, ssl_keyfile_password, ssl_verify, quiet, show_api, allowed_paths, blocked_paths, root_path, app_kwargs, state_session_capacity, share_server_address, share_server_protocol, auth_dependency, _frontend)\u001b[0m\n\u001b[0;32m   2280\u001b[0m \u001b[38;5;28;01mfrom\u001b[39;00m \u001b[38;5;21;01mIPython\u001b[39;00m\u001b[38;5;21;01m.\u001b[39;00m\u001b[38;5;21;01mdisplay\u001b[39;00m \u001b[38;5;28;01mimport\u001b[39;00m HTML, Javascript, display  \u001b[38;5;66;03m# type: ignore\u001b[39;00m\n\u001b[0;32m   2282\u001b[0m \u001b[38;5;28;01mif\u001b[39;00m \u001b[38;5;28mself\u001b[39m\u001b[38;5;241m.\u001b[39mshare \u001b[38;5;129;01mand\u001b[39;00m \u001b[38;5;28mself\u001b[39m\u001b[38;5;241m.\u001b[39mshare_url:\n\u001b[1;32m-> 2283\u001b[0m     \u001b[38;5;28;01mwhile\u001b[39;00m \u001b[38;5;129;01mnot\u001b[39;00m \u001b[43mnetworking\u001b[49m\u001b[38;5;241;43m.\u001b[39;49m\u001b[43murl_ok\u001b[49m\u001b[43m(\u001b[49m\u001b[38;5;28;43mself\u001b[39;49m\u001b[38;5;241;43m.\u001b[39;49m\u001b[43mshare_url\u001b[49m\u001b[43m)\u001b[49m:\n\u001b[0;32m   2284\u001b[0m         time\u001b[38;5;241m.\u001b[39msleep(\u001b[38;5;241m0.25\u001b[39m)\n\u001b[0;32m   2285\u001b[0m     artifact \u001b[38;5;241m=\u001b[39m HTML(\n\u001b[0;32m   2286\u001b[0m         \u001b[38;5;124mf\u001b[39m\u001b[38;5;124m'\u001b[39m\u001b[38;5;124m<div><iframe src=\u001b[39m\u001b[38;5;124m\"\u001b[39m\u001b[38;5;132;01m{\u001b[39;00m\u001b[38;5;28mself\u001b[39m\u001b[38;5;241m.\u001b[39mshare_url\u001b[38;5;132;01m}\u001b[39;00m\u001b[38;5;124m\"\u001b[39m\u001b[38;5;124m width=\u001b[39m\u001b[38;5;124m\"\u001b[39m\u001b[38;5;132;01m{\u001b[39;00m\u001b[38;5;28mself\u001b[39m\u001b[38;5;241m.\u001b[39mwidth\u001b[38;5;132;01m}\u001b[39;00m\u001b[38;5;124m\"\u001b[39m\u001b[38;5;124m height=\u001b[39m\u001b[38;5;124m\"\u001b[39m\u001b[38;5;132;01m{\u001b[39;00m\u001b[38;5;28mself\u001b[39m\u001b[38;5;241m.\u001b[39mheight\u001b[38;5;132;01m}\u001b[39;00m\u001b[38;5;124m\"\u001b[39m\u001b[38;5;124m allow=\u001b[39m\u001b[38;5;124m\"\u001b[39m\u001b[38;5;124mautoplay; camera; microphone; clipboard-read; clipboard-write;\u001b[39m\u001b[38;5;124m\"\u001b[39m\u001b[38;5;124m frameborder=\u001b[39m\u001b[38;5;124m\"\u001b[39m\u001b[38;5;124m0\u001b[39m\u001b[38;5;124m\"\u001b[39m\u001b[38;5;124m allowfullscreen></iframe></div>\u001b[39m\u001b[38;5;124m'\u001b[39m\n\u001b[0;32m   2287\u001b[0m     )\n",
      "File \u001b[1;32m~\\miniconda3\\lib\\site-packages\\gradio\\networking.py:53\u001b[0m, in \u001b[0;36murl_ok\u001b[1;34m(url)\u001b[0m\n\u001b[0;32m     51\u001b[0m \u001b[38;5;28;01mwith\u001b[39;00m warnings\u001b[38;5;241m.\u001b[39mcatch_warnings():\n\u001b[0;32m     52\u001b[0m     warnings\u001b[38;5;241m.\u001b[39mfilterwarnings(\u001b[38;5;124m\"\u001b[39m\u001b[38;5;124mignore\u001b[39m\u001b[38;5;124m\"\u001b[39m)\n\u001b[1;32m---> 53\u001b[0m     r \u001b[38;5;241m=\u001b[39m \u001b[43mhttpx\u001b[49m\u001b[38;5;241;43m.\u001b[39;49m\u001b[43mhead\u001b[49m\u001b[43m(\u001b[49m\u001b[43murl\u001b[49m\u001b[43m,\u001b[49m\u001b[43m \u001b[49m\u001b[43mtimeout\u001b[49m\u001b[38;5;241;43m=\u001b[39;49m\u001b[38;5;241;43m3\u001b[39;49m\u001b[43m,\u001b[49m\u001b[43m \u001b[49m\u001b[43mverify\u001b[49m\u001b[38;5;241;43m=\u001b[39;49m\u001b[38;5;28;43;01mFalse\u001b[39;49;00m\u001b[43m)\u001b[49m\n\u001b[0;32m     54\u001b[0m \u001b[38;5;28;01mif\u001b[39;00m r\u001b[38;5;241m.\u001b[39mstatus_code \u001b[38;5;129;01min\u001b[39;00m (\u001b[38;5;241m200\u001b[39m, \u001b[38;5;241m401\u001b[39m, \u001b[38;5;241m302\u001b[39m):  \u001b[38;5;66;03m# 401 or 302 if auth is set\u001b[39;00m\n\u001b[0;32m     55\u001b[0m     \u001b[38;5;28;01mreturn\u001b[39;00m \u001b[38;5;28;01mTrue\u001b[39;00m\n",
      "File \u001b[1;32m~\\miniconda3\\lib\\site-packages\\httpx\\_api.py:278\u001b[0m, in \u001b[0;36mhead\u001b[1;34m(url, params, headers, cookies, auth, proxy, proxies, follow_redirects, cert, verify, timeout, trust_env)\u001b[0m\n\u001b[0;32m    255\u001b[0m \u001b[38;5;28;01mdef\u001b[39;00m \u001b[38;5;21mhead\u001b[39m(\n\u001b[0;32m    256\u001b[0m     url: URLTypes,\n\u001b[0;32m    257\u001b[0m     \u001b[38;5;241m*\u001b[39m,\n\u001b[1;32m   (...)\u001b[0m\n\u001b[0;32m    268\u001b[0m     trust_env: \u001b[38;5;28mbool\u001b[39m \u001b[38;5;241m=\u001b[39m \u001b[38;5;28;01mTrue\u001b[39;00m,\n\u001b[0;32m    269\u001b[0m ) \u001b[38;5;241m-\u001b[39m\u001b[38;5;241m>\u001b[39m Response:\n\u001b[0;32m    270\u001b[0m \u001b[38;5;250m    \u001b[39m\u001b[38;5;124;03m\"\"\"\u001b[39;00m\n\u001b[0;32m    271\u001b[0m \u001b[38;5;124;03m    Sends a `HEAD` request.\u001b[39;00m\n\u001b[0;32m    272\u001b[0m \n\u001b[1;32m   (...)\u001b[0m\n\u001b[0;32m    276\u001b[0m \u001b[38;5;124;03m    on this function, as `HEAD` requests should not include a request body.\u001b[39;00m\n\u001b[0;32m    277\u001b[0m \u001b[38;5;124;03m    \"\"\"\u001b[39;00m\n\u001b[1;32m--> 278\u001b[0m     \u001b[38;5;28;01mreturn\u001b[39;00m \u001b[43mrequest\u001b[49m\u001b[43m(\u001b[49m\n\u001b[0;32m    279\u001b[0m \u001b[43m        \u001b[49m\u001b[38;5;124;43m\"\u001b[39;49m\u001b[38;5;124;43mHEAD\u001b[39;49m\u001b[38;5;124;43m\"\u001b[39;49m\u001b[43m,\u001b[49m\n\u001b[0;32m    280\u001b[0m \u001b[43m        \u001b[49m\u001b[43murl\u001b[49m\u001b[43m,\u001b[49m\n\u001b[0;32m    281\u001b[0m \u001b[43m        \u001b[49m\u001b[43mparams\u001b[49m\u001b[38;5;241;43m=\u001b[39;49m\u001b[43mparams\u001b[49m\u001b[43m,\u001b[49m\n\u001b[0;32m    282\u001b[0m \u001b[43m        \u001b[49m\u001b[43mheaders\u001b[49m\u001b[38;5;241;43m=\u001b[39;49m\u001b[43mheaders\u001b[49m\u001b[43m,\u001b[49m\n\u001b[0;32m    283\u001b[0m \u001b[43m        \u001b[49m\u001b[43mcookies\u001b[49m\u001b[38;5;241;43m=\u001b[39;49m\u001b[43mcookies\u001b[49m\u001b[43m,\u001b[49m\n\u001b[0;32m    284\u001b[0m \u001b[43m        \u001b[49m\u001b[43mauth\u001b[49m\u001b[38;5;241;43m=\u001b[39;49m\u001b[43mauth\u001b[49m\u001b[43m,\u001b[49m\n\u001b[0;32m    285\u001b[0m \u001b[43m        \u001b[49m\u001b[43mproxy\u001b[49m\u001b[38;5;241;43m=\u001b[39;49m\u001b[43mproxy\u001b[49m\u001b[43m,\u001b[49m\n\u001b[0;32m    286\u001b[0m \u001b[43m        \u001b[49m\u001b[43mproxies\u001b[49m\u001b[38;5;241;43m=\u001b[39;49m\u001b[43mproxies\u001b[49m\u001b[43m,\u001b[49m\n\u001b[0;32m    287\u001b[0m \u001b[43m        \u001b[49m\u001b[43mfollow_redirects\u001b[49m\u001b[38;5;241;43m=\u001b[39;49m\u001b[43mfollow_redirects\u001b[49m\u001b[43m,\u001b[49m\n\u001b[0;32m    288\u001b[0m \u001b[43m        \u001b[49m\u001b[43mcert\u001b[49m\u001b[38;5;241;43m=\u001b[39;49m\u001b[43mcert\u001b[49m\u001b[43m,\u001b[49m\n\u001b[0;32m    289\u001b[0m \u001b[43m        \u001b[49m\u001b[43mverify\u001b[49m\u001b[38;5;241;43m=\u001b[39;49m\u001b[43mverify\u001b[49m\u001b[43m,\u001b[49m\n\u001b[0;32m    290\u001b[0m \u001b[43m        \u001b[49m\u001b[43mtimeout\u001b[49m\u001b[38;5;241;43m=\u001b[39;49m\u001b[43mtimeout\u001b[49m\u001b[43m,\u001b[49m\n\u001b[0;32m    291\u001b[0m \u001b[43m        \u001b[49m\u001b[43mtrust_env\u001b[49m\u001b[38;5;241;43m=\u001b[39;49m\u001b[43mtrust_env\u001b[49m\u001b[43m,\u001b[49m\n\u001b[0;32m    292\u001b[0m \u001b[43m    \u001b[49m\u001b[43m)\u001b[49m\n",
      "File \u001b[1;32m~\\miniconda3\\lib\\site-packages\\httpx\\_api.py:106\u001b[0m, in \u001b[0;36mrequest\u001b[1;34m(method, url, params, content, data, files, json, headers, cookies, auth, proxy, proxies, timeout, follow_redirects, verify, cert, trust_env)\u001b[0m\n\u001b[0;32m     46\u001b[0m \u001b[38;5;250m\u001b[39m\u001b[38;5;124;03m\"\"\"\u001b[39;00m\n\u001b[0;32m     47\u001b[0m \u001b[38;5;124;03mSends an HTTP request.\u001b[39;00m\n\u001b[0;32m     48\u001b[0m \n\u001b[1;32m   (...)\u001b[0m\n\u001b[0;32m     95\u001b[0m \u001b[38;5;124;03m```\u001b[39;00m\n\u001b[0;32m     96\u001b[0m \u001b[38;5;124;03m\"\"\"\u001b[39;00m\n\u001b[0;32m     97\u001b[0m \u001b[38;5;28;01mwith\u001b[39;00m Client(\n\u001b[0;32m     98\u001b[0m     cookies\u001b[38;5;241m=\u001b[39mcookies,\n\u001b[0;32m     99\u001b[0m     proxy\u001b[38;5;241m=\u001b[39mproxy,\n\u001b[1;32m   (...)\u001b[0m\n\u001b[0;32m    104\u001b[0m     trust_env\u001b[38;5;241m=\u001b[39mtrust_env,\n\u001b[0;32m    105\u001b[0m ) \u001b[38;5;28;01mas\u001b[39;00m client:\n\u001b[1;32m--> 106\u001b[0m     \u001b[38;5;28;01mreturn\u001b[39;00m \u001b[43mclient\u001b[49m\u001b[38;5;241;43m.\u001b[39;49m\u001b[43mrequest\u001b[49m\u001b[43m(\u001b[49m\n\u001b[0;32m    107\u001b[0m \u001b[43m        \u001b[49m\u001b[43mmethod\u001b[49m\u001b[38;5;241;43m=\u001b[39;49m\u001b[43mmethod\u001b[49m\u001b[43m,\u001b[49m\n\u001b[0;32m    108\u001b[0m \u001b[43m        \u001b[49m\u001b[43murl\u001b[49m\u001b[38;5;241;43m=\u001b[39;49m\u001b[43murl\u001b[49m\u001b[43m,\u001b[49m\n\u001b[0;32m    109\u001b[0m \u001b[43m        \u001b[49m\u001b[43mcontent\u001b[49m\u001b[38;5;241;43m=\u001b[39;49m\u001b[43mcontent\u001b[49m\u001b[43m,\u001b[49m\n\u001b[0;32m    110\u001b[0m \u001b[43m        \u001b[49m\u001b[43mdata\u001b[49m\u001b[38;5;241;43m=\u001b[39;49m\u001b[43mdata\u001b[49m\u001b[43m,\u001b[49m\n\u001b[0;32m    111\u001b[0m \u001b[43m        \u001b[49m\u001b[43mfiles\u001b[49m\u001b[38;5;241;43m=\u001b[39;49m\u001b[43mfiles\u001b[49m\u001b[43m,\u001b[49m\n\u001b[0;32m    112\u001b[0m \u001b[43m        \u001b[49m\u001b[43mjson\u001b[49m\u001b[38;5;241;43m=\u001b[39;49m\u001b[43mjson\u001b[49m\u001b[43m,\u001b[49m\n\u001b[0;32m    113\u001b[0m \u001b[43m        \u001b[49m\u001b[43mparams\u001b[49m\u001b[38;5;241;43m=\u001b[39;49m\u001b[43mparams\u001b[49m\u001b[43m,\u001b[49m\n\u001b[0;32m    114\u001b[0m \u001b[43m        \u001b[49m\u001b[43mheaders\u001b[49m\u001b[38;5;241;43m=\u001b[39;49m\u001b[43mheaders\u001b[49m\u001b[43m,\u001b[49m\n\u001b[0;32m    115\u001b[0m \u001b[43m        \u001b[49m\u001b[43mauth\u001b[49m\u001b[38;5;241;43m=\u001b[39;49m\u001b[43mauth\u001b[49m\u001b[43m,\u001b[49m\n\u001b[0;32m    116\u001b[0m \u001b[43m        \u001b[49m\u001b[43mfollow_redirects\u001b[49m\u001b[38;5;241;43m=\u001b[39;49m\u001b[43mfollow_redirects\u001b[49m\u001b[43m,\u001b[49m\n\u001b[0;32m    117\u001b[0m \u001b[43m    \u001b[49m\u001b[43m)\u001b[49m\n",
      "File \u001b[1;32m~\\miniconda3\\lib\\site-packages\\httpx\\_client.py:827\u001b[0m, in \u001b[0;36mClient.request\u001b[1;34m(self, method, url, content, data, files, json, params, headers, cookies, auth, follow_redirects, timeout, extensions)\u001b[0m\n\u001b[0;32m    812\u001b[0m     warnings\u001b[38;5;241m.\u001b[39mwarn(message, \u001b[38;5;167;01mDeprecationWarning\u001b[39;00m)\n\u001b[0;32m    814\u001b[0m request \u001b[38;5;241m=\u001b[39m \u001b[38;5;28mself\u001b[39m\u001b[38;5;241m.\u001b[39mbuild_request(\n\u001b[0;32m    815\u001b[0m     method\u001b[38;5;241m=\u001b[39mmethod,\n\u001b[0;32m    816\u001b[0m     url\u001b[38;5;241m=\u001b[39murl,\n\u001b[1;32m   (...)\u001b[0m\n\u001b[0;32m    825\u001b[0m     extensions\u001b[38;5;241m=\u001b[39mextensions,\n\u001b[0;32m    826\u001b[0m )\n\u001b[1;32m--> 827\u001b[0m \u001b[38;5;28;01mreturn\u001b[39;00m \u001b[38;5;28;43mself\u001b[39;49m\u001b[38;5;241;43m.\u001b[39;49m\u001b[43msend\u001b[49m\u001b[43m(\u001b[49m\u001b[43mrequest\u001b[49m\u001b[43m,\u001b[49m\u001b[43m \u001b[49m\u001b[43mauth\u001b[49m\u001b[38;5;241;43m=\u001b[39;49m\u001b[43mauth\u001b[49m\u001b[43m,\u001b[49m\u001b[43m \u001b[49m\u001b[43mfollow_redirects\u001b[49m\u001b[38;5;241;43m=\u001b[39;49m\u001b[43mfollow_redirects\u001b[49m\u001b[43m)\u001b[49m\n",
      "File \u001b[1;32m~\\miniconda3\\lib\\site-packages\\httpx\\_client.py:914\u001b[0m, in \u001b[0;36mClient.send\u001b[1;34m(self, request, stream, auth, follow_redirects)\u001b[0m\n\u001b[0;32m    906\u001b[0m follow_redirects \u001b[38;5;241m=\u001b[39m (\n\u001b[0;32m    907\u001b[0m     \u001b[38;5;28mself\u001b[39m\u001b[38;5;241m.\u001b[39mfollow_redirects\n\u001b[0;32m    908\u001b[0m     \u001b[38;5;28;01mif\u001b[39;00m \u001b[38;5;28misinstance\u001b[39m(follow_redirects, UseClientDefault)\n\u001b[0;32m    909\u001b[0m     \u001b[38;5;28;01melse\u001b[39;00m follow_redirects\n\u001b[0;32m    910\u001b[0m )\n\u001b[0;32m    912\u001b[0m auth \u001b[38;5;241m=\u001b[39m \u001b[38;5;28mself\u001b[39m\u001b[38;5;241m.\u001b[39m_build_request_auth(request, auth)\n\u001b[1;32m--> 914\u001b[0m response \u001b[38;5;241m=\u001b[39m \u001b[38;5;28;43mself\u001b[39;49m\u001b[38;5;241;43m.\u001b[39;49m\u001b[43m_send_handling_auth\u001b[49m\u001b[43m(\u001b[49m\n\u001b[0;32m    915\u001b[0m \u001b[43m    \u001b[49m\u001b[43mrequest\u001b[49m\u001b[43m,\u001b[49m\n\u001b[0;32m    916\u001b[0m \u001b[43m    \u001b[49m\u001b[43mauth\u001b[49m\u001b[38;5;241;43m=\u001b[39;49m\u001b[43mauth\u001b[49m\u001b[43m,\u001b[49m\n\u001b[0;32m    917\u001b[0m \u001b[43m    \u001b[49m\u001b[43mfollow_redirects\u001b[49m\u001b[38;5;241;43m=\u001b[39;49m\u001b[43mfollow_redirects\u001b[49m\u001b[43m,\u001b[49m\n\u001b[0;32m    918\u001b[0m \u001b[43m    \u001b[49m\u001b[43mhistory\u001b[49m\u001b[38;5;241;43m=\u001b[39;49m\u001b[43m[\u001b[49m\u001b[43m]\u001b[49m\u001b[43m,\u001b[49m\n\u001b[0;32m    919\u001b[0m \u001b[43m\u001b[49m\u001b[43m)\u001b[49m\n\u001b[0;32m    920\u001b[0m \u001b[38;5;28;01mtry\u001b[39;00m:\n\u001b[0;32m    921\u001b[0m     \u001b[38;5;28;01mif\u001b[39;00m \u001b[38;5;129;01mnot\u001b[39;00m stream:\n",
      "File \u001b[1;32m~\\miniconda3\\lib\\site-packages\\httpx\\_client.py:942\u001b[0m, in \u001b[0;36mClient._send_handling_auth\u001b[1;34m(self, request, auth, follow_redirects, history)\u001b[0m\n\u001b[0;32m    939\u001b[0m request \u001b[38;5;241m=\u001b[39m \u001b[38;5;28mnext\u001b[39m(auth_flow)\n\u001b[0;32m    941\u001b[0m \u001b[38;5;28;01mwhile\u001b[39;00m \u001b[38;5;28;01mTrue\u001b[39;00m:\n\u001b[1;32m--> 942\u001b[0m     response \u001b[38;5;241m=\u001b[39m \u001b[38;5;28;43mself\u001b[39;49m\u001b[38;5;241;43m.\u001b[39;49m\u001b[43m_send_handling_redirects\u001b[49m\u001b[43m(\u001b[49m\n\u001b[0;32m    943\u001b[0m \u001b[43m        \u001b[49m\u001b[43mrequest\u001b[49m\u001b[43m,\u001b[49m\n\u001b[0;32m    944\u001b[0m \u001b[43m        \u001b[49m\u001b[43mfollow_redirects\u001b[49m\u001b[38;5;241;43m=\u001b[39;49m\u001b[43mfollow_redirects\u001b[49m\u001b[43m,\u001b[49m\n\u001b[0;32m    945\u001b[0m \u001b[43m        \u001b[49m\u001b[43mhistory\u001b[49m\u001b[38;5;241;43m=\u001b[39;49m\u001b[43mhistory\u001b[49m\u001b[43m,\u001b[49m\n\u001b[0;32m    946\u001b[0m \u001b[43m    \u001b[49m\u001b[43m)\u001b[49m\n\u001b[0;32m    947\u001b[0m     \u001b[38;5;28;01mtry\u001b[39;00m:\n\u001b[0;32m    948\u001b[0m         \u001b[38;5;28;01mtry\u001b[39;00m:\n",
      "File \u001b[1;32m~\\miniconda3\\lib\\site-packages\\httpx\\_client.py:979\u001b[0m, in \u001b[0;36mClient._send_handling_redirects\u001b[1;34m(self, request, follow_redirects, history)\u001b[0m\n\u001b[0;32m    976\u001b[0m \u001b[38;5;28;01mfor\u001b[39;00m hook \u001b[38;5;129;01min\u001b[39;00m \u001b[38;5;28mself\u001b[39m\u001b[38;5;241m.\u001b[39m_event_hooks[\u001b[38;5;124m\"\u001b[39m\u001b[38;5;124mrequest\u001b[39m\u001b[38;5;124m\"\u001b[39m]:\n\u001b[0;32m    977\u001b[0m     hook(request)\n\u001b[1;32m--> 979\u001b[0m response \u001b[38;5;241m=\u001b[39m \u001b[38;5;28;43mself\u001b[39;49m\u001b[38;5;241;43m.\u001b[39;49m\u001b[43m_send_single_request\u001b[49m\u001b[43m(\u001b[49m\u001b[43mrequest\u001b[49m\u001b[43m)\u001b[49m\n\u001b[0;32m    980\u001b[0m \u001b[38;5;28;01mtry\u001b[39;00m:\n\u001b[0;32m    981\u001b[0m     \u001b[38;5;28;01mfor\u001b[39;00m hook \u001b[38;5;129;01min\u001b[39;00m \u001b[38;5;28mself\u001b[39m\u001b[38;5;241m.\u001b[39m_event_hooks[\u001b[38;5;124m\"\u001b[39m\u001b[38;5;124mresponse\u001b[39m\u001b[38;5;124m\"\u001b[39m]:\n",
      "File \u001b[1;32m~\\miniconda3\\lib\\site-packages\\httpx\\_client.py:1015\u001b[0m, in \u001b[0;36mClient._send_single_request\u001b[1;34m(self, request)\u001b[0m\n\u001b[0;32m   1010\u001b[0m     \u001b[38;5;28;01mraise\u001b[39;00m \u001b[38;5;167;01mRuntimeError\u001b[39;00m(\n\u001b[0;32m   1011\u001b[0m         \u001b[38;5;124m\"\u001b[39m\u001b[38;5;124mAttempted to send an async request with a sync Client instance.\u001b[39m\u001b[38;5;124m\"\u001b[39m\n\u001b[0;32m   1012\u001b[0m     )\n\u001b[0;32m   1014\u001b[0m \u001b[38;5;28;01mwith\u001b[39;00m request_context(request\u001b[38;5;241m=\u001b[39mrequest):\n\u001b[1;32m-> 1015\u001b[0m     response \u001b[38;5;241m=\u001b[39m \u001b[43mtransport\u001b[49m\u001b[38;5;241;43m.\u001b[39;49m\u001b[43mhandle_request\u001b[49m\u001b[43m(\u001b[49m\u001b[43mrequest\u001b[49m\u001b[43m)\u001b[49m\n\u001b[0;32m   1017\u001b[0m \u001b[38;5;28;01massert\u001b[39;00m \u001b[38;5;28misinstance\u001b[39m(response\u001b[38;5;241m.\u001b[39mstream, SyncByteStream)\n\u001b[0;32m   1019\u001b[0m response\u001b[38;5;241m.\u001b[39mrequest \u001b[38;5;241m=\u001b[39m request\n",
      "File \u001b[1;32m~\\miniconda3\\lib\\site-packages\\httpx\\_transports\\default.py:233\u001b[0m, in \u001b[0;36mHTTPTransport.handle_request\u001b[1;34m(self, request)\u001b[0m\n\u001b[0;32m    220\u001b[0m req \u001b[38;5;241m=\u001b[39m httpcore\u001b[38;5;241m.\u001b[39mRequest(\n\u001b[0;32m    221\u001b[0m     method\u001b[38;5;241m=\u001b[39mrequest\u001b[38;5;241m.\u001b[39mmethod,\n\u001b[0;32m    222\u001b[0m     url\u001b[38;5;241m=\u001b[39mhttpcore\u001b[38;5;241m.\u001b[39mURL(\n\u001b[1;32m   (...)\u001b[0m\n\u001b[0;32m    230\u001b[0m     extensions\u001b[38;5;241m=\u001b[39mrequest\u001b[38;5;241m.\u001b[39mextensions,\n\u001b[0;32m    231\u001b[0m )\n\u001b[0;32m    232\u001b[0m \u001b[38;5;28;01mwith\u001b[39;00m map_httpcore_exceptions():\n\u001b[1;32m--> 233\u001b[0m     resp \u001b[38;5;241m=\u001b[39m \u001b[38;5;28mself\u001b[39m\u001b[38;5;241m.\u001b[39m_pool\u001b[38;5;241m.\u001b[39mhandle_request(req)\n\u001b[0;32m    235\u001b[0m \u001b[38;5;28;01massert\u001b[39;00m \u001b[38;5;28misinstance\u001b[39m(resp\u001b[38;5;241m.\u001b[39mstream, typing\u001b[38;5;241m.\u001b[39mIterable)\n\u001b[0;32m    237\u001b[0m \u001b[38;5;28;01mreturn\u001b[39;00m Response(\n\u001b[0;32m    238\u001b[0m     status_code\u001b[38;5;241m=\u001b[39mresp\u001b[38;5;241m.\u001b[39mstatus,\n\u001b[0;32m    239\u001b[0m     headers\u001b[38;5;241m=\u001b[39mresp\u001b[38;5;241m.\u001b[39mheaders,\n\u001b[0;32m    240\u001b[0m     stream\u001b[38;5;241m=\u001b[39mResponseStream(resp\u001b[38;5;241m.\u001b[39mstream),\n\u001b[0;32m    241\u001b[0m     extensions\u001b[38;5;241m=\u001b[39mresp\u001b[38;5;241m.\u001b[39mextensions,\n\u001b[0;32m    242\u001b[0m )\n",
      "File \u001b[1;32m~\\miniconda3\\lib\\contextlib.py:137\u001b[0m, in \u001b[0;36m_GeneratorContextManager.__exit__\u001b[1;34m(self, typ, value, traceback)\u001b[0m\n\u001b[0;32m    135\u001b[0m     value \u001b[38;5;241m=\u001b[39m typ()\n\u001b[0;32m    136\u001b[0m \u001b[38;5;28;01mtry\u001b[39;00m:\n\u001b[1;32m--> 137\u001b[0m     \u001b[38;5;28;43mself\u001b[39;49m\u001b[38;5;241;43m.\u001b[39;49m\u001b[43mgen\u001b[49m\u001b[38;5;241;43m.\u001b[39;49m\u001b[43mthrow\u001b[49m\u001b[43m(\u001b[49m\u001b[43mtyp\u001b[49m\u001b[43m,\u001b[49m\u001b[43m \u001b[49m\u001b[43mvalue\u001b[49m\u001b[43m,\u001b[49m\u001b[43m \u001b[49m\u001b[43mtraceback\u001b[49m\u001b[43m)\u001b[49m\n\u001b[0;32m    138\u001b[0m \u001b[38;5;28;01mexcept\u001b[39;00m \u001b[38;5;167;01mStopIteration\u001b[39;00m \u001b[38;5;28;01mas\u001b[39;00m exc:\n\u001b[0;32m    139\u001b[0m     \u001b[38;5;66;03m# Suppress StopIteration *unless* it's the same exception that\u001b[39;00m\n\u001b[0;32m    140\u001b[0m     \u001b[38;5;66;03m# was passed to throw().  This prevents a StopIteration\u001b[39;00m\n\u001b[0;32m    141\u001b[0m     \u001b[38;5;66;03m# raised inside the \"with\" statement from being suppressed.\u001b[39;00m\n\u001b[0;32m    142\u001b[0m     \u001b[38;5;28;01mreturn\u001b[39;00m exc \u001b[38;5;129;01mis\u001b[39;00m \u001b[38;5;129;01mnot\u001b[39;00m value\n",
      "File \u001b[1;32m~\\miniconda3\\lib\\site-packages\\httpx\\_transports\\default.py:86\u001b[0m, in \u001b[0;36mmap_httpcore_exceptions\u001b[1;34m()\u001b[0m\n\u001b[0;32m     83\u001b[0m     \u001b[38;5;28;01mraise\u001b[39;00m\n\u001b[0;32m     85\u001b[0m message \u001b[38;5;241m=\u001b[39m \u001b[38;5;28mstr\u001b[39m(exc)\n\u001b[1;32m---> 86\u001b[0m \u001b[38;5;28;01mraise\u001b[39;00m mapped_exc(message) \u001b[38;5;28;01mfrom\u001b[39;00m \u001b[38;5;21;01mexc\u001b[39;00m\n",
      "\u001b[1;31mConnectTimeout\u001b[0m: _ssl.c:1112: The handshake operation timed out"
     ]
    }
   ],
   "source": [
    "import numpy as np\n",
    "import json\n",
    "import gradio as gr\n",
    "import RNA\n",
    "from omnigenome import ModelHub\n",
    "import os\n",
    "print(os.listdir('.'))\n",
    "ssp_model = ModelHub.load(\"OmniGenome-186M-SSP\")\n",
    "\n",
    "def ss_validity_loss(rna_strct):\n",
    "    dotCount = 0\n",
    "    leftCount = 0\n",
    "    rightCount = 0\n",
    "    unmatched_positions = []  # 用于记录未匹配括号的位置\n",
    "    uncoherentCount = 0\n",
    "    prev_char = \"\"\n",
    "    for i, char in enumerate(rna_strct):\n",
    "        if prev_char != char:\n",
    "            uncoherentCount += 1\n",
    "        prev_char = char\n",
    "\n",
    "        if char == \"(\":\n",
    "            leftCount += 1\n",
    "            unmatched_positions.append(i)  # 记录左括号位置\n",
    "        elif char == \")\":\n",
    "            if leftCount > 0:\n",
    "                leftCount -= 1\n",
    "                unmatched_positions.pop()  # 移除最近的左括号位置\n",
    "            else:\n",
    "                rightCount += 1\n",
    "                unmatched_positions.append(i)  # 记录右括号位置\n",
    "        elif char == \".\":\n",
    "            dotCount += 1\n",
    "        else:\n",
    "            raise ValueError(f\"Invalid character {char} in RNA structure\")\n",
    "    match_loss = (leftCount + rightCount) / (len(rna_strct) - dotCount + 1e-5)\n",
    "    return match_loss\n",
    "\n",
    "\n",
    "def find_invalid_ss_positions(rna_strct):\n",
    "    left_brackets = []  # 存储左括号的位置\n",
    "    right_brackets = []  # 存储未匹配的右括号的位置\n",
    "    for i, char in enumerate(rna_strct):\n",
    "        if char == \"(\":\n",
    "            left_brackets.append(i)\n",
    "        elif char == \")\":\n",
    "            if left_brackets:\n",
    "                left_brackets.pop()  # 找到匹配的左括号，从列表中移除\n",
    "            else:\n",
    "                right_brackets.append(i)  # 没有匹配的左括号，记录右括号的位置\n",
    "    return left_brackets + right_brackets\n",
    "\n",
    "\n",
    "def fold(rna_sequence):\n",
    "    try:\n",
    "        ref_struct = RNA.fold(rna_sequence)[0]\n",
    "        RNA.svg_rna_plot(rna_sequence, ref_struct, f\"real_structure.svg\")\n",
    "    \n",
    "        pred_structure = \"\".join(ssp_model.inference(rna_sequence)[\"predictions\"])\n",
    "        print(pred_structure)\n",
    "        if ss_validity_loss(pred_structure) == 0:\n",
    "            RNA.svg_rna_plot(rna_sequence, pred_structure, f\"predicted_structure.svg\")\n",
    "            pred_structure, _ = repair_rna_structure(\n",
    "                rna_sequence, pred_structure\n",
    "            )\n",
    "            return (\n",
    "                ref_struct,\n",
    "                pred_structure,\n",
    "                \"real_structure.svg\",\n",
    "                \"predicted_structure.svg\",\n",
    "            )\n",
    "        else:\n",
    "            # return blank image of predicted structure\n",
    "            # generate a blank svg image\n",
    "            with open(\"predicted_structure.svg\", \"w\") as f:\n",
    "                f.write(\n",
    "                    '<svg xmlns=\"http://www.w3.org/2000/svg\" width=\"100\" height=\"100\"></svg>'\n",
    "                )\n",
    "            return (\n",
    "                ref_struct,\n",
    "                pred_structure,\n",
    "                \"real_structure.svg\",\n",
    "                \"best_pred_struct.svg\",\n",
    "            )\n",
    "    except Exception as e:\n",
    "        with open(\"real_structure.svg\", \"w\") as f:\n",
    "            f.write(\n",
    "                '<svg xmlns=\"http://www.w3.org/2000/svg\" width=\"100\" height=\"100\"></svg>'\n",
    "            )\n",
    "        with open(\"predicted_structure.svg\", \"w\") as f:\n",
    "            f.write(\n",
    "                '<svg xmlns=\"http://www.w3.org/2000/svg\" width=\"100\" height=\"100\"></svg>'\n",
    "            )\n",
    "        return e, e, \"real_structure.svg\", \"predicted_structure.svg\"\n",
    "\n",
    "\n",
    "def repair_rna_structure(rna_sequence, invalid_struct):\n",
    "    try:\n",
    "        invalid_ss_positions = find_invalid_ss_positions(invalid_struct)\n",
    "        for pos_idx in invalid_ss_positions:\n",
    "            if invalid_struct[pos_idx] == \"(\":\n",
    "                invalid_struct = (\n",
    "                    invalid_struct[:pos_idx] + \".\" + invalid_struct[pos_idx + 1 :]\n",
    "                )\n",
    "            else:\n",
    "                invalid_struct = (\n",
    "                    invalid_struct[:pos_idx] + \".\" + invalid_struct[pos_idx + 1 :]\n",
    "                )\n",
    "\n",
    "        best_pred_struct = invalid_struct\n",
    "        RNA.svg_rna_plot(rna_sequence, best_pred_struct, f\"best_pred_struct.svg\")\n",
    "        return best_pred_struct, \"best_pred_struct.svg\"\n",
    "    except Exception as e:\n",
    "        with open(\"best_pred_struct.svg\", \"w\") as f:\n",
    "            f.write(\n",
    "                '<svg xmlns=\"http://www.w3.org/2000/svg\" width=\"100\" height=\"100\"></svg>'\n",
    "            )\n",
    "        return e, \"best_pred_struct.svg\"\n",
    "\n",
    "\n",
    "def sample_rna_sequence():\n",
    "    example = examples[np.random.randint(0, len(examples))]\n",
    "    RNA.svg_rna_plot(example[\"seq\"], example[\"label\"], f\"annotated_structure.svg\")\n",
    "\n",
    "    return example[\"seq\"], example[\"label\"], \"annotated_structure.svg\"\n",
    "\n",
    "\n",
    "# 定义界面\n",
    "with gr.Blocks() as demo:\n",
    "    gr.Markdown(\"### RNA Secondary Structure Prediction\")\n",
    "\n",
    "    with gr.Row():\n",
    "        with gr.Row():\n",
    "            rna_input = gr.Textbox(\n",
    "                label=\"RNA Sequence\", placeholder=\"Enter RNA sequence here...\"\n",
    "            )\n",
    "        with gr.Row():\n",
    "            strcut_input = gr.Textbox(\n",
    "                label=\"Annotated Secondary Structure\",\n",
    "                placeholder=\"Enter RNA secondary structure here...\",\n",
    "            )\n",
    "\n",
    "    with gr.Row():\n",
    "        #     examples = [\n",
    "        #     [\"GCGUCACACCGGUGAAGUCGCGCGUCACACCGGUGAAGUCGC\"],\n",
    "        #     [\"GCUGGGAUGUUGGCUUAGAAGCAGCCAUCAUUUAAAGAGUGCGUAACAGCUCACCAGCGCUGGGAUGUUGGCUUAGAAGCAGCCAUCAUUUAAAGAGUGCGUAACAGCUCACCAGC\"],\n",
    "        #     [\"GGCUGGUCCGAGUGCAGUGGUGUUUACAACUAAUUGAUCACAACCAGUUACAGAUUUCUUUGUUCCUUCUCCACUCCCACUGCUUCACUUGACUAGCCUU\"],\n",
    "        # ]\n",
    "        #     gr.Examples(examples=examples, label=\"Examples\", inputs=[rna_input])\n",
    "        with open(\"toy_datasets/Archive2/test.json\", \"r\") as f:\n",
    "            examples = []\n",
    "            for line in f:\n",
    "                examples.append(json.loads(line))\n",
    "\n",
    "        sample_button = gr.Button(\"Sample a RNA Sequence from RNAStrand2 testset\")\n",
    "\n",
    "    with gr.Row():\n",
    "        submit_button = gr.Button(\"Run Prediction\")\n",
    "\n",
    "    with gr.Row():\n",
    "        ref_structure_output = gr.Textbox(\n",
    "            label=\"Secondary Structure by ViennaRNA\", interactive=False\n",
    "        )\n",
    "\n",
    "    with gr.Row():\n",
    "        pred_structure_output = gr.Textbox(\n",
    "            label=\"Secondary Structure by Model\", interactive=False\n",
    "        )\n",
    "\n",
    "    with gr.Row():\n",
    "        anno_structure_output = gr.Image(\n",
    "            label=\"Annotated Secondary Structure\", show_share_button=True\n",
    "        )\n",
    "        real_image = gr.Image(\n",
    "            label=\"Secondary Structure by ViennaRNA\", show_share_button=True\n",
    "        )\n",
    "        predicted_image = gr.Image(\n",
    "            label=\"Secondary Structure by Model\", show_share_button=True\n",
    "        )\n",
    "\n",
    "    with gr.Row():\n",
    "        repair_button = gr.Button(\"Run Prediction Repair\")\n",
    "\n",
    "    submit_button.click(\n",
    "        fn=fold,\n",
    "        inputs=rna_input,\n",
    "        outputs=[\n",
    "            ref_structure_output,\n",
    "            pred_structure_output,\n",
    "            real_image,\n",
    "            predicted_image,\n",
    "        ],\n",
    "    )\n",
    "\n",
    "    repair_button.click(\n",
    "        fn=repair_rna_structure,\n",
    "        inputs=[rna_input, pred_structure_output],\n",
    "        outputs=[pred_structure_output, predicted_image],\n",
    "    )\n",
    "\n",
    "    sample_button.click(\n",
    "        fn=sample_rna_sequence, outputs=[rna_input, strcut_input, anno_structure_output]\n",
    "    )\n",
    "demo.launch(share=True)"
   ]
  },
  {
   "cell_type": "markdown",
   "id": "a65734ef8e8d8696",
   "metadata": {
    "collapsed": false,
    "jupyter": {
     "outputs_hidden": false
    }
   },
   "source": [
    "### Conclusion\n",
    "In this demonstration, we have shown how to fine-tune a genomic foundation model for RNA secondary structure prediction using the OmniGenome package. We have also shown how to use the trained model for inference and how to create a web demo for RNA secondary structure prediction. We hope this demonstration will help you get started with genomic foundation model development using OmniGenome."
   ]
  },
  {
   "cell_type": "code",
   "execution_count": null,
   "id": "9615fc02b5260f8a",
   "metadata": {
    "ExecuteTime": {
     "end_time": "2024-08-10T14:08:56.962665Z",
     "start_time": "2024-08-10T14:08:56.961664Z"
    },
    "collapsed": false,
    "jupyter": {
     "outputs_hidden": false
    }
   },
   "outputs": [],
   "source": []
  }
 ],
 "metadata": {
  "kernelspec": {
   "display_name": "Python 3 (ipykernel)",
   "language": "python",
   "name": "python3"
  },
  "language_info": {
   "codemirror_mode": {
    "name": "ipython",
    "version": 3
   },
   "file_extension": ".py",
   "mimetype": "text/x-python",
   "name": "python",
   "nbconvert_exporter": "python",
   "pygments_lexer": "ipython3",
   "version": "3.9.18"
  }
 },
 "nbformat": 4,
 "nbformat_minor": 5
}
